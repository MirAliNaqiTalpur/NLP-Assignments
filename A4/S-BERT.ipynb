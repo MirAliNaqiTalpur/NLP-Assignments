{
 "cells": [
  {
   "attachments": {},
   "cell_type": "markdown",
   "metadata": {},
   "source": [
    "# [Sentence-BERT](https://arxiv.org/pdf/1908.10084.pdf)\n",
    "\n",
    "[Reference Code](https://www.pinecone.io/learn/series/nlp/train-sentence-transformers-softmax/)"
   ]
  },
  {
   "cell_type": "code",
   "execution_count": 1,
   "metadata": {},
   "outputs": [],
   "source": [
    "import os\n",
    "import math\n",
    "import re\n",
    "from  random import *\n",
    "import numpy as np\n",
    "import torch\n",
    "import pandas as pd\n",
    "import torch.nn as nn\n",
    "import torch.optim as optim\n",
    "import torch.nn.functional as F\n",
    "import matplotlib.pyplot as plt\n",
    "import seaborn as sns\n",
    "\n",
    "from sklearn.metrics.pairwise import cosine_similarity\n",
    "from sklearn.metrics import classification_report, confusion_matrix"
   ]
  },
  {
   "cell_type": "code",
   "execution_count": 2,
   "metadata": {},
   "outputs": [
    {
     "data": {
      "text/plain": [
       "device(type='cuda')"
      ]
     },
     "execution_count": 2,
     "metadata": {},
     "output_type": "execute_result"
    }
   ],
   "source": [
    "device = torch.device(\"cuda\" if torch.cuda.is_available() else \"cpu\")\n",
    "device"
   ]
  },
  {
   "cell_type": "code",
   "execution_count": 3,
   "metadata": {},
   "outputs": [
    {
     "data": {
      "text/plain": [
       "'NVIDIA GeForce RTX 3050 6GB Laptop GPU'"
      ]
     },
     "execution_count": 3,
     "metadata": {},
     "output_type": "execute_result"
    }
   ],
   "source": [
    "torch.cuda.get_device_name(0)"
   ]
  },
  {
   "attachments": {},
   "cell_type": "markdown",
   "metadata": {},
   "source": [
    "## 1. Data"
   ]
  },
  {
   "attachments": {},
   "cell_type": "markdown",
   "metadata": {},
   "source": [
    "### Train, Test, Validation "
   ]
  },
  {
   "cell_type": "code",
   "execution_count": 4,
   "metadata": {},
   "outputs": [
    {
     "data": {
      "text/plain": [
       "({'premise': Value(dtype='string', id=None),\n",
       "  'hypothesis': Value(dtype='string', id=None),\n",
       "  'label': ClassLabel(names=['entailment', 'neutral', 'contradiction'], id=None),\n",
       "  'idx': Value(dtype='int32', id=None)},\n",
       " {'premise': Value(dtype='string', id=None),\n",
       "  'hypothesis': Value(dtype='string', id=None),\n",
       "  'label': ClassLabel(names=['entailment', 'neutral', 'contradiction'], id=None)})"
      ]
     },
     "execution_count": 4,
     "metadata": {},
     "output_type": "execute_result"
    }
   ],
   "source": [
    "import datasets\n",
    "\n",
    "snli = datasets.load_dataset('snli')\n",
    "\n",
    "mnli = datasets.load_dataset('glue', 'mnli')\n",
    "mnli['train'].features,  snli['train'].features"
   ]
  },
  {
   "cell_type": "code",
   "execution_count": 5,
   "metadata": {},
   "outputs": [
    {
     "data": {
      "text/plain": [
       "dict_keys(['train', 'validation_matched', 'validation_mismatched', 'test_matched', 'test_mismatched'])"
      ]
     },
     "execution_count": 5,
     "metadata": {},
     "output_type": "execute_result"
    }
   ],
   "source": [
    "# List of datasets to remove 'idx' column from\n",
    "mnli.column_names.keys()"
   ]
  },
  {
   "cell_type": "code",
   "execution_count": 6,
   "metadata": {},
   "outputs": [],
   "source": [
    "# Remove 'idx' column from each dataset\n",
    "for column_names in mnli.column_names.keys():\n",
    "    mnli[column_names] = mnli[column_names].remove_columns('idx')"
   ]
  },
  {
   "cell_type": "code",
   "execution_count": 7,
   "metadata": {},
   "outputs": [
    {
     "data": {
      "text/plain": [
       "dict_keys(['train', 'validation_matched', 'validation_mismatched', 'test_matched', 'test_mismatched'])"
      ]
     },
     "execution_count": 7,
     "metadata": {},
     "output_type": "execute_result"
    }
   ],
   "source": [
    "mnli.column_names.keys()"
   ]
  },
  {
   "cell_type": "code",
   "execution_count": 8,
   "metadata": {},
   "outputs": [
    {
     "data": {
      "text/plain": [
       "(array([0, 1, 2]), array([-1,  0,  1,  2]))"
      ]
     },
     "execution_count": 8,
     "metadata": {},
     "output_type": "execute_result"
    }
   ],
   "source": [
    "np.unique(mnli['train']['label']), np.unique(snli['train']['label'])\n",
    "#snli also have -1"
   ]
  },
  {
   "cell_type": "code",
   "execution_count": 9,
   "metadata": {},
   "outputs": [],
   "source": [
    "# there are -1 values in the label feature, these are where no class could be decided so we remove\n",
    "snli = snli.filter(lambda x: 0 if x['label'] == -1 else 1)"
   ]
  },
  {
   "cell_type": "code",
   "execution_count": 10,
   "metadata": {},
   "outputs": [
    {
     "data": {
      "text/plain": [
       "(array([0, 1, 2]), array([0, 1, 2]))"
      ]
     },
     "execution_count": 10,
     "metadata": {},
     "output_type": "execute_result"
    }
   ],
   "source": [
    "np.unique(mnli['train']['label']), np.unique(snli['train']['label'])\n",
    "#snli also have -1"
   ]
  },
  {
   "cell_type": "code",
   "execution_count": 11,
   "metadata": {},
   "outputs": [
    {
     "data": {
      "text/plain": [
       "DatasetDict({\n",
       "    train: Dataset({\n",
       "        features: ['premise', 'hypothesis', 'label'],\n",
       "        num_rows: 100000\n",
       "    })\n",
       "    test: Dataset({\n",
       "        features: ['premise', 'hypothesis', 'label'],\n",
       "        num_rows: 10000\n",
       "    })\n",
       "    validation: Dataset({\n",
       "        features: ['premise', 'hypothesis', 'label'],\n",
       "        num_rows: 10000\n",
       "    })\n",
       "})"
      ]
     },
     "execution_count": 11,
     "metadata": {},
     "output_type": "execute_result"
    }
   ],
   "source": [
    "# Assuming you have your two DatasetDict objects named snli and mnli\n",
    "from datasets import DatasetDict\n",
    "\n",
    "# Merge the two DatasetDict objects\n",
    "raw_dataset = DatasetDict({\n",
    "    'train': datasets.concatenate_datasets([snli['train'], mnli['train']]).shuffle(seed=55).select(list(range(100_000))),\n",
    "    'test': datasets.concatenate_datasets([snli['test'], mnli['test_mismatched']]).shuffle(seed=55).select(list(range(10_000))),\n",
    "    'validation': datasets.concatenate_datasets([snli['validation'], mnli['validation_mismatched']]).shuffle(seed=55).select(list(range(10_000)))\n",
    "})\n",
    "\n",
    "#remove .select(list(range(1000))) in order to use full dataset\n",
    "# Now, merged_dataset_dict contains the combined datasets from snli and mnli\n",
    "raw_dataset"
   ]
  },
  {
   "attachments": {},
   "cell_type": "markdown",
   "metadata": {},
   "source": [
    "## 2. Preprocessing"
   ]
  },
  {
   "cell_type": "code",
   "execution_count": 12,
   "metadata": {},
   "outputs": [],
   "source": [
    "from transformers import BertTokenizer\n",
    "\n",
    "tokenizer = BertTokenizer.from_pretrained('bert-base-uncased')"
   ]
  },
  {
   "cell_type": "code",
   "execution_count": 13,
   "metadata": {},
   "outputs": [
    {
     "data": {
      "text/plain": [
       "BertTokenizer(name_or_path='bert-base-uncased', vocab_size=30522, model_max_length=512, is_fast=False, padding_side='right', truncation_side='right', special_tokens={'unk_token': '[UNK]', 'sep_token': '[SEP]', 'pad_token': '[PAD]', 'cls_token': '[CLS]', 'mask_token': '[MASK]'}, clean_up_tokenization_spaces=True, added_tokens_decoder={\n",
       "\t0: AddedToken(\"[PAD]\", rstrip=False, lstrip=False, single_word=False, normalized=False, special=True),\n",
       "\t100: AddedToken(\"[UNK]\", rstrip=False, lstrip=False, single_word=False, normalized=False, special=True),\n",
       "\t101: AddedToken(\"[CLS]\", rstrip=False, lstrip=False, single_word=False, normalized=False, special=True),\n",
       "\t102: AddedToken(\"[SEP]\", rstrip=False, lstrip=False, single_word=False, normalized=False, special=True),\n",
       "\t103: AddedToken(\"[MASK]\", rstrip=False, lstrip=False, single_word=False, normalized=False, special=True),\n",
       "}\n",
       ")"
      ]
     },
     "execution_count": 13,
     "metadata": {},
     "output_type": "execute_result"
    }
   ],
   "source": [
    "tokenizer"
   ]
  },
  {
   "cell_type": "code",
   "execution_count": 14,
   "metadata": {},
   "outputs": [
    {
     "data": {
      "application/vnd.jupyter.widget-view+json": {
       "model_id": "68383712b6ff42f99e7f620677f49db6",
       "version_major": 2,
       "version_minor": 0
      },
      "text/plain": [
       "Map:   0%|          | 0/100000 [00:00<?, ? examples/s]"
      ]
     },
     "metadata": {},
     "output_type": "display_data"
    },
    {
     "data": {
      "application/vnd.jupyter.widget-view+json": {
       "model_id": "ed01893439404cd895a96e9e7070577c",
       "version_major": 2,
       "version_minor": 0
      },
      "text/plain": [
       "Map:   0%|          | 0/10000 [00:00<?, ? examples/s]"
      ]
     },
     "metadata": {},
     "output_type": "display_data"
    },
    {
     "data": {
      "application/vnd.jupyter.widget-view+json": {
       "model_id": "1a6fe5da41014be7b9b48672820efbf0",
       "version_major": 2,
       "version_minor": 0
      },
      "text/plain": [
       "Map:   0%|          | 0/10000 [00:00<?, ? examples/s]"
      ]
     },
     "metadata": {},
     "output_type": "display_data"
    }
   ],
   "source": [
    "def preprocess_function(examples):\n",
    "    max_seq_length = 128\n",
    "    padding = 'max_length'\n",
    "    \n",
    "    # Tokenize the premise\n",
    "    premise_result = tokenizer(examples['premise'], padding=padding, max_length=max_seq_length, truncation=True)\n",
    "    #num_rows, max_seq_length\n",
    "  \n",
    "    # Tokenize the hypothesis\n",
    "    hypothesis_result = tokenizer(examples['hypothesis'], padding=padding, max_length=max_seq_length, truncation=True)\n",
    "    #num_rows, max_seq_length\n",
    "   \n",
    "    # Extract labels\n",
    "    labels = examples[\"label\"]\n",
    "    \n",
    "    #num_rows\n",
    "    return {\n",
    "        \"premise_input_ids\": premise_result[\"input_ids\"],\n",
    "        \"premise_attention_mask\": premise_result[\"attention_mask\"],\n",
    "        \"hypothesis_input_ids\": hypothesis_result[\"input_ids\"],\n",
    "        \"hypothesis_attention_mask\": hypothesis_result[\"attention_mask\"],\n",
    "        \"labels\" : labels\n",
    "    }\n",
    "\n",
    "tokenized_datasets = raw_dataset.map(preprocess_function,batched=True,)\n",
    "\n",
    "tokenized_datasets = tokenized_datasets.remove_columns(['premise','hypothesis','label'])\n",
    "tokenized_datasets.set_format(\"torch\")"
   ]
  },
  {
   "cell_type": "code",
   "execution_count": 15,
   "metadata": {},
   "outputs": [
    {
     "data": {
      "text/plain": [
       "DatasetDict({\n",
       "    train: Dataset({\n",
       "        features: ['premise_input_ids', 'premise_attention_mask', 'hypothesis_input_ids', 'hypothesis_attention_mask', 'labels'],\n",
       "        num_rows: 100000\n",
       "    })\n",
       "    test: Dataset({\n",
       "        features: ['premise_input_ids', 'premise_attention_mask', 'hypothesis_input_ids', 'hypothesis_attention_mask', 'labels'],\n",
       "        num_rows: 10000\n",
       "    })\n",
       "    validation: Dataset({\n",
       "        features: ['premise_input_ids', 'premise_attention_mask', 'hypothesis_input_ids', 'hypothesis_attention_mask', 'labels'],\n",
       "        num_rows: 10000\n",
       "    })\n",
       "})"
      ]
     },
     "execution_count": 15,
     "metadata": {},
     "output_type": "execute_result"
    }
   ],
   "source": [
    "tokenized_datasets"
   ]
  },
  {
   "attachments": {},
   "cell_type": "markdown",
   "metadata": {},
   "source": [
    "## 3. Data loader"
   ]
  },
  {
   "cell_type": "code",
   "execution_count": 16,
   "metadata": {},
   "outputs": [],
   "source": [
    "from torch.utils.data import DataLoader\n",
    "\n",
    "# initialize the dataloader\n",
    "batch_size = 32\n",
    "train_dataloader = DataLoader(tokenized_datasets['train'], batch_size=batch_size, shuffle=True )\n",
    "eval_dataloader = DataLoader( tokenized_datasets['validation'],  batch_size=batch_size)\n",
    "test_dataloader = DataLoader(tokenized_datasets['test'], batch_size=batch_size)"
   ]
  },
  {
   "cell_type": "code",
   "execution_count": 17,
   "metadata": {},
   "outputs": [
    {
     "name": "stdout",
     "output_type": "stream",
     "text": [
      "torch.Size([32, 128])\n",
      "torch.Size([32, 128])\n",
      "torch.Size([32, 128])\n",
      "torch.Size([32, 128])\n",
      "torch.Size([32])\n"
     ]
    }
   ],
   "source": [
    "for batch in train_dataloader:\n",
    "    print(batch['premise_input_ids'].shape)\n",
    "    print(batch['premise_attention_mask'].shape)\n",
    "    print(batch['hypothesis_input_ids'].shape)\n",
    "    print(batch['hypothesis_attention_mask'].shape)\n",
    "    print(batch['labels'].shape)\n",
    "    break"
   ]
  },
  {
   "attachments": {},
   "cell_type": "markdown",
   "metadata": {},
   "source": [
    "## 4. Model"
   ]
  },
  {
   "cell_type": "code",
   "execution_count": 18,
   "metadata": {},
   "outputs": [
    {
     "data": {
      "text/plain": [
       "BertModel(\n",
       "  (embeddings): BertEmbeddings(\n",
       "    (word_embeddings): Embedding(30522, 768, padding_idx=0)\n",
       "    (position_embeddings): Embedding(512, 768)\n",
       "    (token_type_embeddings): Embedding(2, 768)\n",
       "    (LayerNorm): LayerNorm((768,), eps=1e-12, elementwise_affine=True)\n",
       "    (dropout): Dropout(p=0.1, inplace=False)\n",
       "  )\n",
       "  (encoder): BertEncoder(\n",
       "    (layer): ModuleList(\n",
       "      (0-11): 12 x BertLayer(\n",
       "        (attention): BertAttention(\n",
       "          (self): BertSdpaSelfAttention(\n",
       "            (query): Linear(in_features=768, out_features=768, bias=True)\n",
       "            (key): Linear(in_features=768, out_features=768, bias=True)\n",
       "            (value): Linear(in_features=768, out_features=768, bias=True)\n",
       "            (dropout): Dropout(p=0.1, inplace=False)\n",
       "          )\n",
       "          (output): BertSelfOutput(\n",
       "            (dense): Linear(in_features=768, out_features=768, bias=True)\n",
       "            (LayerNorm): LayerNorm((768,), eps=1e-12, elementwise_affine=True)\n",
       "            (dropout): Dropout(p=0.1, inplace=False)\n",
       "          )\n",
       "        )\n",
       "        (intermediate): BertIntermediate(\n",
       "          (dense): Linear(in_features=768, out_features=3072, bias=True)\n",
       "          (intermediate_act_fn): GELUActivation()\n",
       "        )\n",
       "        (output): BertOutput(\n",
       "          (dense): Linear(in_features=3072, out_features=768, bias=True)\n",
       "          (LayerNorm): LayerNorm((768,), eps=1e-12, elementwise_affine=True)\n",
       "          (dropout): Dropout(p=0.1, inplace=False)\n",
       "        )\n",
       "      )\n",
       "    )\n",
       "  )\n",
       "  (pooler): BertPooler(\n",
       "    (dense): Linear(in_features=768, out_features=768, bias=True)\n",
       "    (activation): Tanh()\n",
       "  )\n",
       ")"
      ]
     },
     "execution_count": 18,
     "metadata": {},
     "output_type": "execute_result"
    }
   ],
   "source": [
    "# start from a pretrained bert-base-uncased model\n",
    "from transformers import BertTokenizer, BertModel\n",
    "model = BertModel.from_pretrained('bert-base-uncased')\n",
    "\n",
    "checkpoint = torch.load(\"bert_model.pth\", map_location=device)\n",
    "model.load_state_dict(checkpoint, strict=False)\n",
    "model.to(device)"
   ]
  },
  {
   "cell_type": "markdown",
   "metadata": {},
   "source": [
    "## **Siamese-BERT**"
   ]
  },
  {
   "cell_type": "markdown",
   "metadata": {},
   "source": [
    "![Siamese BERT](images/Siamese-bert.webp)\n"
   ]
  },
  {
   "attachments": {},
   "cell_type": "markdown",
   "metadata": {},
   "source": [
    "### Pooling\n",
    "SBERT adds a pooling operation to the output of BERT / RoBERTa to derive a fixed sized sentence embedding"
   ]
  },
  {
   "cell_type": "code",
   "execution_count": 19,
   "metadata": {},
   "outputs": [],
   "source": [
    "#The mean pooling operation is implemented to derive fixed-sized sentence embeddings from the BERT token embeddings\n",
    "def mean_pool(token_embeds, attention_mask):\n",
    "    # reshape attention_mask to cover 768-dimension embeddings\n",
    "    in_mask = attention_mask.unsqueeze(-1).expand(token_embeds.size()).float()\n",
    "    \n",
    "    # perform mean-pooling but exclude padding tokens (specified by in_mask)\n",
    "    pool = torch.sum(token_embeds * in_mask, 1) / torch.clamp(in_mask.sum(1), min=1e-9)\n",
    "    \n",
    "    return pool"
   ]
  },
  {
   "attachments": {},
   "cell_type": "markdown",
   "metadata": {},
   "source": [
    "## 5. Loss Function\n",
    "\n",
    "## Classification Objective Function \n",
    "We concatenate the sentence embeddings $u$ and $v$ with the element-wise difference  $\\lvert u - v \\rvert $ and multiply the result with the trainable weight  $ W_t ∈  \\mathbb{R}^{3n \\times k}  $:\n",
    "\n",
    "$ o = \\text{softmax}\\left(W^T \\cdot \\left(u, v, \\lvert u - v \\rvert\\right)\\right) $\n",
    "\n",
    "where $n$ is the dimension of the sentence embeddings and k the number of labels. We optimize cross-entropy loss. This structure is depicted in Figure 1.\n",
    "\n",
    "## Regression Objective Function. \n",
    "The cosine similarity between the two sentence embeddings $u$ and $v$ is computed (Figure 2). We use means quared-error loss as the objective function.\n",
    "\n",
    "(Manhatten / Euclidean distance, semantically  similar sentences can be found.)\n"
   ]
  },
  {
   "cell_type": "code",
   "execution_count": 20,
   "metadata": {},
   "outputs": [],
   "source": [
    "#The Classification Objective Function (Softmax Loss) is implemented as described in the Sentence-BERT paper:\n",
    "\n",
    "def configurations(u,v):\n",
    "    # build the |u-v| tensor\n",
    "    uv = torch.sub(u, v)   # batch_size, hidden_dim\n",
    "    uv_abs = torch.abs(uv) # batch_size,hidden_dim\n",
    "    \n",
    "    # concatenate u, v, |u-v|\n",
    "    x = torch.cat([u, v, uv_abs], dim=-1) # batch_size, 3*hidden_dim\n",
    "    return x\n",
    "\n",
    "def cosine_similarity(u, v):\n",
    "    dot_product = np.dot(u, v)\n",
    "    norm_u = np.linalg.norm(u)\n",
    "    norm_v = np.linalg.norm(v)\n",
    "    similarity = dot_product / (norm_u * norm_v)\n",
    "    return similarity"
   ]
  },
  {
   "cell_type": "code",
   "execution_count": 21,
   "metadata": {},
   "outputs": [],
   "source": [
    "classifier_head = torch.nn.Linear(768*3, 3).to(device)\n",
    "\n",
    "optimizer = torch.optim.Adam(model.parameters(), lr=2e-5)\n",
    "optimizer_classifier = torch.optim.Adam(classifier_head.parameters(), lr=2e-5)\n",
    "\n",
    "criterion = nn.CrossEntropyLoss()"
   ]
  },
  {
   "cell_type": "code",
   "execution_count": 22,
   "metadata": {},
   "outputs": [
    {
     "name": "stderr",
     "output_type": "stream",
     "text": [
      "c:\\Users\\Mir Ali\\AppData\\Local\\Programs\\Python\\Python311\\Lib\\site-packages\\torch\\optim\\lr_scheduler.py:143: UserWarning: Detected call of `lr_scheduler.step()` before `optimizer.step()`. In PyTorch 1.1.0 and later, you should call them in the opposite order: `optimizer.step()` before `lr_scheduler.step()`.  Failure to do this will result in PyTorch skipping the first value of the learning rate schedule. See more details at https://pytorch.org/docs/stable/optim.html#how-to-adjust-learning-rate\n",
      "  warnings.warn(\"Detected call of `lr_scheduler.step()` before `optimizer.step()`. \"\n"
     ]
    }
   ],
   "source": [
    "from transformers import get_linear_schedule_with_warmup\n",
    "\n",
    "# and setup a warmup for the first ~10% steps\n",
    "total_steps = int(len(raw_dataset) / batch_size)\n",
    "warmup_steps = int(0.1 * total_steps)\n",
    "scheduler = get_linear_schedule_with_warmup(optimizer, num_warmup_steps=warmup_steps,num_training_steps=total_steps - warmup_steps)\n",
    "\n",
    "# then during the training loop we update the scheduler per step\n",
    "scheduler.step()\n",
    "\n",
    "scheduler_classifier = get_linear_schedule_with_warmup(optimizer_classifier, num_warmup_steps=warmup_steps,\n",
    "                                                       num_training_steps=total_steps - warmup_steps)\n",
    "\n",
    "# then during the training loop we update the scheduler per step\n",
    "scheduler_classifier.step()"
   ]
  },
  {
   "attachments": {},
   "cell_type": "markdown",
   "metadata": {},
   "source": [
    "## 6. Training"
   ]
  },
  {
   "cell_type": "code",
   "execution_count": 23,
   "metadata": {},
   "outputs": [
    {
     "data": {
      "application/vnd.jupyter.widget-view+json": {
       "model_id": "d5e4d8a5d92743d387fb9c86efbe29d8",
       "version_major": 2,
       "version_minor": 0
      },
      "text/plain": [
       "  0%|          | 0/3125 [00:00<?, ?it/s]"
      ]
     },
     "metadata": {},
     "output_type": "display_data"
    },
    {
     "name": "stderr",
     "output_type": "stream",
     "text": [
      "c:\\Users\\Mir Ali\\AppData\\Local\\Programs\\Python\\Python311\\Lib\\site-packages\\transformers\\models\\bert\\modeling_bert.py:440: UserWarning: 1Torch was not compiled with flash attention. (Triggered internally at ..\\aten\\src\\ATen\\native\\transformers\\cuda\\sdp_utils.cpp:455.)\n",
      "  attn_output = torch.nn.functional.scaled_dot_product_attention(\n"
     ]
    },
    {
     "name": "stdout",
     "output_type": "stream",
     "text": [
      "Epoch: 1 | loss = 1.105665\n"
     ]
    }
   ],
   "source": [
    "from tqdm.auto import tqdm\n",
    "\n",
    "num_epoch = 1   # 1 epoch should be enough, increase if wanted\n",
    "\n",
    "for epoch in range(num_epoch):\n",
    "    model.train()  \n",
    "    classifier_head.train()\n",
    "   # Initialize the dataloader loop with tqdm for progress tracking\n",
    "    loop = tqdm(train_dataloader, leave=True)\n",
    "    \n",
    "    for step, batch in enumerate(loop):\n",
    "        # zero all gradients on each new step\n",
    "        optimizer.zero_grad()\n",
    "        optimizer_classifier.zero_grad()\n",
    "        \n",
    "        # prepare batches and more all to the active device\n",
    "        inputs_ids_a = batch['premise_input_ids'].to(device)\n",
    "        inputs_ids_b = batch['hypothesis_input_ids'].to(device)\n",
    "        attention_a = batch['premise_attention_mask'].to(device)\n",
    "        attention_b = batch['hypothesis_attention_mask'].to(device)\n",
    "        label = batch['labels'].to(device)\n",
    "        \n",
    "        # extract token embeddings from BERT at last_hidden_state\n",
    "        u = model(inputs_ids_a, attention_mask=attention_a)  \n",
    "        v = model(inputs_ids_b, attention_mask=attention_b)  \n",
    "\n",
    "        u_last_hidden_state = u.last_hidden_state # all token embeddings A = batch_size, seq_len, hidden_dim\n",
    "        v_last_hidden_state = v.last_hidden_state # all token embeddings B = batch_size, seq_len, hidden_dim\n",
    "\n",
    "         # get the mean pooled vectors\n",
    "        u_mean_pool = mean_pool(u_last_hidden_state, attention_a) # batch_size, hidden_dim\n",
    "        v_mean_pool = mean_pool(v_last_hidden_state, attention_b) # batch_size, hidden_dim\n",
    "        \n",
    "        # build the |u-v| tensor\n",
    "        uv = torch.sub(u_mean_pool, v_mean_pool)   # batch_size,hidden_dim\n",
    "        uv_abs = torch.abs(uv) # batch_size,hidden_dim\n",
    "        \n",
    "        # concatenate u, v, |u-v|\n",
    "        x = torch.cat([u_mean_pool, v_mean_pool, uv_abs], dim=-1) # batch_size, 3*hidden_dim\n",
    "        \n",
    "        # process concatenated tensor through classifier_head\n",
    "        x = classifier_head(x) #batch_size, classifer\n",
    "        \n",
    "        # calculate the 'softmax-loss' between predicted and true label\n",
    "        loss = criterion(x, label)\n",
    "        \n",
    "        # using loss, calculate gradients and then optimizerize\n",
    "        loss.backward()\n",
    "        optimizer.step()\n",
    "        optimizer_classifier.step()\n",
    "\n",
    "        scheduler.step() # update learning rate scheduler\n",
    "        scheduler_classifier.step()\n",
    "        \n",
    "        # Update tqdm progress bar with loss after each batch\n",
    "        loop.set_description(f'Epoch {epoch+1}')\n",
    "        loop.set_postfix(loss=loss.item())\n",
    "    \n",
    "    # Print loss at end of epoch\n",
    "    print(f'Epoch: {epoch + 1} | loss = {loss.item():.6f}')"
   ]
  },
  {
   "cell_type": "markdown",
   "metadata": {},
   "source": [
    "### Saving the Model"
   ]
  },
  {
   "cell_type": "code",
   "execution_count": 24,
   "metadata": {},
   "outputs": [
    {
     "name": "stdout",
     "output_type": "stream",
     "text": [
      "Model saved.\n"
     ]
    }
   ],
   "source": [
    "torch.save(model.state_dict(), \"SBERT_finetuned.pth\")\n",
    "torch.save(classifier_head.state_dict(), \"classifier_head.pth\")\n",
    "\n",
    "print(\"Model saved.\")"
   ]
  },
  {
   "cell_type": "markdown",
   "metadata": {},
   "source": [
    "###  Model Evaluation"
   ]
  },
  {
   "cell_type": "code",
   "execution_count": 25,
   "metadata": {},
   "outputs": [
    {
     "name": "stdout",
     "output_type": "stream",
     "text": [
      "Average Cosine Similarity: 0.7680\n",
      "               precision    recall  f1-score   support\n",
      "\n",
      "   entailment       0.35      0.84      0.50      3452\n",
      "      neutral       0.26      0.01      0.01      3206\n",
      "contradiction       0.35      0.18      0.24      3342\n",
      "\n",
      "     accuracy                           0.35     10000\n",
      "    macro avg       0.32      0.34      0.25     10000\n",
      " weighted avg       0.32      0.35      0.26     10000\n",
      "\n"
     ]
    }
   ],
   "source": [
    "model.eval()\n",
    "classifier_head.eval()\n",
    "\n",
    "total_similarity = 0\n",
    "num_samples = 0\n",
    "all_preds = []\n",
    "all_labels = []\n",
    "\n",
    "with torch.no_grad():\n",
    "    for step, batch in enumerate(eval_dataloader):\n",
    "        # prepare batches and more all to the active device\n",
    "        inputs_ids_a = batch['premise_input_ids'].to(device)\n",
    "        inputs_ids_b = batch['hypothesis_input_ids'].to(device)\n",
    "        attention_a = batch['premise_attention_mask'].to(device)\n",
    "        attention_b = batch['hypothesis_attention_mask'].to(device)\n",
    "        label = batch['labels'].to(device)\n",
    "        \n",
    "        # extract token embeddings from BERT at last_hidden_state\n",
    "        u = model(inputs_ids_a, attention_mask=attention_a)[0]  # all token embeddings A = batch_size, seq_len, hidden_dim\n",
    "        v = model(inputs_ids_b, attention_mask=attention_b)[0]  # all token embeddings B = batch_size, seq_len, hidden_dim\n",
    "\n",
    "        # get the mean pooled vectors\n",
    "        u_mean_pool = mean_pool(u, attention_a)  # batch_size, hidden_dim\n",
    "        v_mean_pool = mean_pool(v, attention_b)  # batch_size, hidden_dim\n",
    "\n",
    "        \n",
    "        # build the |u-v| tensor\n",
    "        uv = torch.sub(u_mean_pool, v_mean_pool)  # batch_size,hidden_dim\n",
    "        uv_abs = torch.abs(uv)  # batch_size,hidden_dim\n",
    "\n",
    "        # concatenate u, v, |u-v|\n",
    "        x = torch.cat([u_mean_pool, v_mean_pool, uv_abs], dim=-1)  # batch_size, 3*hidden_dim\n",
    "\n",
    "        # process concatenated tensor through classifier_head\n",
    "        logits = classifier_head(x)  # batch_size, classifer\n",
    "\n",
    "        # get predictions\n",
    "        preds = torch.argmax(logits, dim=-1)\n",
    "        \n",
    "        # Compute cosine similarity\n",
    "        cosine_sim = F.cosine_similarity(u_mean_pool, v_mean_pool, dim=-1)  # batch_size\n",
    "        total_similarity += torch.sum(cosine_sim).item()\n",
    "        num_samples += cosine_sim.shape[0]\n",
    "\n",
    "        all_preds.extend(preds.cpu().numpy())\n",
    "        all_labels.extend(label.cpu().numpy())\n",
    "\n",
    "\n",
    "# Compute and print average cosine similarity\n",
    "average_similarity = total_similarity / num_samples\n",
    "print(f\"Average Cosine Similarity: {average_similarity:.4f}\")\n",
    "\n",
    "# Print classification report\n",
    "class_names = [\"entailment\", \"neutral\", \"contradiction\"]\n",
    "print(classification_report(all_labels, all_preds, target_names=class_names))"
   ]
  },
  {
   "cell_type": "code",
   "execution_count": 26,
   "metadata": {},
   "outputs": [
    {
     "data": {
      "image/png": "[encoded data removed]",
      "text/plain": [
       "<Figure size 800x600 with 2 Axes>"
      ]
     },
     "metadata": {},
     "output_type": "display_data"
    }
   ],
   "source": [
    "# Generate confusion matrix\n",
    "cm = confusion_matrix(all_labels, all_preds)\n",
    "\n",
    "# Plot confusion matrix\n",
    "plt.figure(figsize=(8, 6))\n",
    "sns.heatmap(cm, annot=True, fmt=\"d\", cmap=\"Blues\", xticklabels=class_names, yticklabels=class_names)\n",
    "plt.xlabel(\"Predicted Label\")\n",
    "plt.ylabel(\"True Label\")\n",
    "plt.title(\"Confusion Matrix\")\n",
    "plt.show()\n"
   ]
  },
  {
   "cell_type": "code",
   "execution_count": null,
   "metadata": {},
   "outputs": [
    {
     "data": {
      "image/png": "[encoded data removed]",
      "text/plain": [
       "<Figure size 800x600 with 2 Axes>"
      ]
     },
     "metadata": {},
     "output_type": "display_data"
    }
   ],
   "source": [
    "# Generate classification report\n",
    "report = classification_report(all_labels, all_preds, target_names=class_names, output_dict=True)\n",
    "df_report = pd.DataFrame(report).T\n",
    "\n",
    "# Plot classification report as a heatmap\n",
    "plt.figure(figsize=(8, 6))\n",
    "sns.heatmap(df_report.iloc[:-1, :-1], annot=True, cmap=\"coolwarm\", linewidths=0.5)\n",
    "plt.title(\"Classification Report\")\n",
    "plt.show()"
   ]
  },
  {
   "attachments": {},
   "cell_type": "markdown",
   "metadata": {},
   "source": [
    "## 7. Inference"
   ]
  },
  {
   "cell_type": "code",
   "execution_count": null,
   "metadata": {},
   "outputs": [
    {
     "name": "stdout",
     "output_type": "stream",
     "text": [
      "Cosine Similarity: 0.8057\n"
     ]
    }
   ],
   "source": [
    "def calculate_similarity(model, tokenizer, sentence_a, sentence_b, device):\n",
    "    # Tokenize and convert sentences to input IDs and attention masks\n",
    "    inputs_a = tokenizer(sentence_a, return_tensors='pt', truncation=True, padding=True).to(device)\n",
    "    inputs_b = tokenizer(sentence_b, return_tensors='pt', truncation=True, padding=True).to(device)\n",
    "\n",
    "    # Move input IDs and attention masks to the active device\n",
    "    inputs_ids_a = inputs_a['input_ids']\n",
    "    attention_a = inputs_a['attention_mask']\n",
    "    inputs_ids_b = inputs_b['input_ids']\n",
    "    attention_b = inputs_b['attention_mask']\n",
    "\n",
    "    # Extract token embeddings from BERT\n",
    "    u = model(inputs_ids_a, attention_mask=attention_a)[0]  # all token embeddings A = batch_size, seq_len, hidden_dim\n",
    "    v = model(inputs_ids_b, attention_mask=attention_b)[0]  # all token embeddings B = batch_size, seq_len, hidden_dim\n",
    "\n",
    "    # Get the mean-pooled vectors\n",
    "    u = mean_pool(u, attention_a).detach().cpu().numpy().reshape(-1)  # batch_size, hidden_dim\n",
    "    v = mean_pool(v, attention_b).detach().cpu().numpy().reshape(-1)  # batch_size, hidden_dim\n",
    "\n",
    "    # Calculate cosine similarity\n",
    "    similarity_score = cosine_similarity(u.reshape(1, -1), v.reshape(1, -1))[0, 0]\n",
    "\n",
    "    return similarity_score\n",
    "\n",
    "# Example usage:\n",
    "sentence_a = 'Your contribution helped make it possible for us to provide our students with a quality education.'\n",
    "sentence_b = \"Your contributions were of no help with our students' education.\"\n",
    "similarity = calculate_similarity(model, tokenizer, sentence_a, sentence_b, device)\n",
    "print(f\"Cosine Similarity: {similarity:.4f}\")"
   ]
  },
  {
   "cell_type": "code",
   "execution_count": null,
   "metadata": {},
   "outputs": [
    {
     "name": "stdout",
     "output_type": "stream",
     "text": [
      "Sentence A: The quick brown fox jumps over the lazy dog.\n",
      "Sentence B: A fast brown fox leaps over a lazy dog.\n",
      "Similarity Score: 0.9180\n",
      "\n",
      "Sentence A: She is reading a book in the park.\n",
      "Sentence B: She enjoys reading books in the garden.\n",
      "Similarity Score: 0.8058\n",
      "\n",
      "Sentence A: The sun rises in the east.\n",
      "Sentence B: The sun sets in the west.\n",
      "Similarity Score: 0.9592\n",
      "\n",
      "Sentence A: She walked to the store to buy some milk.\n",
      "Sentence B: She went to the store to get some milk.\n",
      "Similarity Score: 0.9769\n",
      "\n",
      "Sentence A: The car is red.\n",
      "Sentence B: The car is parked outside.\n",
      "Similarity Score: 0.8111\n",
      "\n",
      "Sentence A: He is wearing a jacket.\n",
      "Sentence B: She is walking down the street.\n",
      "Similarity Score: 0.7481\n",
      "\n",
      "Sentence A: The sky is cloudy.\n",
      "Sentence B: There is a cat sitting on the windowsill.\n",
      "Similarity Score: 0.6829\n",
      "\n",
      "Sentence A: She loves playing soccer.\n",
      "Sentence B: The table is made of wood.\n",
      "Similarity Score: 0.4947\n",
      "\n",
      "Sentence A: He is playing football in the field.\n",
      "Sentence B: She is playing chess at home.\n",
      "Similarity Score: 0.7972\n",
      "\n",
      "Sentence A: The dog barked loudly at the mailman.\n",
      "Sentence B: The dog is sleeping quietly on the couch.\n",
      "Similarity Score: 0.6477\n",
      "\n",
      "Sentence A: I love listening to music on a rainy day.\n",
      "Sentence B: I can't stand the sound of music.\n",
      "Similarity Score: 0.7806\n",
      "\n",
      "Sentence A: The man is wearing a suit.\n",
      "Sentence B: The man is wearing a t-shirt and shorts.\n",
      "Similarity Score: 0.8919\n",
      "\n",
      "Sentence A: They are cooking dinner together.\n",
      "Sentence B: They are arguing over the TV remote.\n",
      "Similarity Score: 0.8144\n",
      "\n"
     ]
    }
   ],
   "source": [
    "sentence_pairs = [\n",
    "    # Entailment (high similarity)\n",
    "    (\"The quick brown fox jumps over the lazy dog.\", \"A fast brown fox leaps over a lazy dog.\"),\n",
    "    (\"She is reading a book in the park.\", \"She enjoys reading books in the garden.\"),\n",
    "    (\"The sun rises in the east.\", \"The sun sets in the west.\"),\n",
    "    (\"She walked to the store to buy some milk.\", \"She went to the store to get some milk.\"),\n",
    "    \n",
    "    # Neutral (low similarity)\n",
    "    (\"The car is red.\", \"The car is parked outside.\"),\n",
    "    (\"He is wearing a jacket.\", \"She is walking down the street.\"),\n",
    "    (\"The sky is cloudy.\", \"There is a cat sitting on the windowsill.\"),\n",
    "    (\"She loves playing soccer.\", \"The table is made of wood.\"),\n",
    "    \n",
    "    # Contradiction (no similarity)\n",
    "    (\"He is playing football in the field.\", \"She is playing chess at home.\"),\n",
    "    (\"The dog barked loudly at the mailman.\", \"The dog is sleeping quietly on the couch.\"),\n",
    "    (\"I love listening to music on a rainy day.\", \"I can't stand the sound of music.\"),\n",
    "    (\"The man is wearing a suit.\", \"The man is wearing a t-shirt and shorts.\"),\n",
    "    (\"They are cooking dinner together.\", \"They are arguing over the TV remote.\")\n",
    "]\n",
    "\n",
    "\n",
    "# Calculate and display similarity scores\n",
    "for sentence_a, sentence_b in sentence_pairs:\n",
    "    similarity_score = calculate_similarity(model, tokenizer, sentence_a, sentence_b, device)\n",
    "    print(f\"Sentence A: {sentence_a}\\nSentence B: {sentence_b}\\nSimilarity Score: {similarity_score:.4f}\\n\")"
   ]
  },
  {
   "cell_type": "markdown",
   "metadata": {},
   "source": [
    "# NLI Text Similarity Classifier\n",
    "\n",
    "## Overview\n",
    "\n",
    "This project involves training a BERT-based model for the task of **Natural Language Inference (NLI)**, specifically to classify relationships between sentence pairs. The model was pre-trained on the **BookCorpus** dataset and fine-tuned on **SNLI** and **MNLI** datasets. The goal is to determine whether a pair of sentences is related in the following ways:\n",
    "\n",
    "- **Entailment**: Sentence B logically follows from Sentence A.\n",
    "- **Contradiction**: Sentence B contradicts Sentence A.\n",
    "- **Neutral**: Sentence B is unrelated or doesn't contradict Sentence A.\n",
    "\n",
    "---\n",
    "\n",
    "## Table of Contents\n",
    "\n",
    "1. [Pre-training](#pre-training)\n",
    "2. [Fine-tuning](#fine-tuning)\n",
    "3. [Training Parameters](#training-parameters)\n",
    "4. [Model Architecture](#model-architecture)\n",
    "5. [Limitations and Improvements](#limitations-and-improvements)\n",
    "\n",
    "---\n",
    "\n",
    "## Pre-training\n",
    "\n",
    "### Dataset\n",
    "\n",
    "- **Dataset**: BookCorpus\n",
    "- **Source**: Hugging Face (Community Datasets)\n",
    "- **Description**: The BookCorpus dataset consists of text extracted from a large collection of books. It is diverse and suitable for learning general language patterns across multiple genres and topics.\n",
    "- **Total Samples**: 1,000,000\n",
    "- **Samples Used for Training**: 100,000\n",
    "- **Columns Used**: Raw text from books (no predefined labels, just plain text).\n",
    "\n",
    "| **Property**       | **Details**                   |\n",
    "|-------------------|-------------------------------|\n",
    "| Dataset Name      | BookCorpus                    |\n",
    "| Text Used         | Raw text from books           |\n",
    "| Total Samples    | 1,000,000                      |\n",
    "| Samples for Training | 100,000                     |\n",
    "\n",
    "---\n",
    "\n",
    "### Training Parameters\n",
    "\n",
    "| **Parameter**         | **Value**               |\n",
    "|-----------------------|-------------------------|\n",
    "| Max Sequence Length   | 1000 tokens             |\n",
    "| Batch Size            | 6                       |\n",
    "| Number of Epochs      | 1000                    |\n",
    "| Final Training Loss   | 3.649                   |\n",
    "\n",
    "---\n",
    "\n",
    "### Model Architecture\n",
    "\n",
    "- **Encoder Layers (n_layers)**: 6\n",
    "- **Multi-Head Attention (n_heads)**: 8\n",
    "- **Embedding Size (d_model)**: 768\n",
    "- **Feedforward Dimension (d_ff)**: 3072\n",
    "- **Key/Value Dimension (d_k, d_v)**: 64\n",
    "- **Number of Segments (n_segments)**: 2\n",
    "\n",
    "---\n",
    "\n",
    "#### Challenges\n",
    "\n",
    "- **GPU Memory Constraints**: The batch size was limited to 6 due to available GPU memory. Larger batch sizes could improve performance but may cause out-of-memory errors.\n",
    "- **Overfitting Risk**: With 1000 epochs, the model may have overfitted, especially after a certain number of epochs. Early stopping or regularization techniques could help mitigate this.\n",
    "- **Handling Long Sequences**: Though the sequence length was limited to 1000 tokens, this may still result in truncation of longer texts.\n",
    "\n",
    "#### Proposed Improvements\n",
    "\n",
    "- **Increase Batch Size**: If hardware allows, increasing the batch size could improve performance.\n",
    "- **Regularization**: Apply dropout or weight decay to reduce overfitting.\n",
    "- **Learning Rate Schedule**: Implement learning rate warm-ups and schedules for better convergence.\n",
    "\n",
    "---\n",
    "\n",
    "## Fine-tuning\n",
    "\n",
    "### Datasets\n",
    "\n",
    "- **SNLI** and **MNLI**\n",
    "- **Source**: Stanford NLP and NYU Machine Learning for Language (Hugging Face)\n",
    "- **Description**: Both SNLI and MNLI are widely used datasets for Natural Language Inference (NLI) tasks. They consist of sentence pairs and labels indicating the relationship (entailment, contradiction, neutral).\n",
    "\n",
    "### Merged Dataset\n",
    "\n",
    "The **SNLI** and **MNLI** datasets were merged to form a larger training set. The training set consists of 100,000 samples, while the validation and test sets consist of 10,000 samples each. \n",
    "\n",
    "The merged datasets were shuffled to ensure randomness and to improve generalization during model training. The following dataset splits were created:\n",
    "\n",
    "- **Train set**: 100,000 samples (merged from SNLI and MNLI train sets)\n",
    "- **Validation set**: 10,000 samples (merged from SNLI and MNLI validation sets)\n",
    "- **Test set**: 10,000 samples (merged from SNLI and MNLI test mismatched sets)\n",
    "\n",
    "| **Dataset**         | **Samples Used for Training** | **Validation Samples** | **Test Samples** |\n",
    "|---------------------|-------------------------------|------------------------|------------------|\n",
    "| SNLI + MNLI         | 100,000                       | 10,000                 | 10,000           |\n",
    "\n",
    "---\n",
    "\n",
    "### Fine-tuning Parameters\n",
    "\n",
    "| **Parameter**         | **Value**             |\n",
    "|-----------------------|-----------------------|\n",
    "| Max Sequence Length   | 128 tokens            |\n",
    "| Batch Size            | 32                    |\n",
    "| Number of Epochs      | 5                     |\n",
    "\n",
    "---\n",
    "\n",
    "#### Challenges\n",
    "\n",
    "- **Memory Limitation**: The batch size was set to 32 to fit within GPU memory limits. Increasing the batch size might speed up training but may lead to memory issues.\n",
    "- **Overfitting**: With a large number of epochs, the model may overfit on the training set. Monitoring validation loss would be key to prevent this.\n",
    "\n",
    "#### Proposed Improvements\n",
    "\n",
    "- **Cross-validation**: Implement cross-validation during fine-tuning to ensure better generalization.\n",
    "- **Learning Rate Tuning**: Fine-tune the learning rate for better convergence.\n",
    "- **Regularization**: Apply dropout during fine-tuning to reduce overfitting.\n",
    "\n",
    "---\n",
    "\n",
    "## Training Parameters Summary\n",
    "\n",
    "| **Parameter**         | **Pre-training (BookCorpus)** | **Fine-tuning (SNLI & MNLI)** |\n",
    "|-----------------------|------------------------------|------------------------------|\n",
    "| Max Sequence Length   | 1000 tokens                  | 128 tokens                   |\n",
    "| Batch Size            | 6                            | 32                           |\n",
    "| Epochs                | 1000                         | 5                            |\n",
    "| Final Loss            | 3.649                        | -                            |\n",
    "\n",
    "---\n",
    "\n",
    "## Model Architecture Summary\n",
    "\n",
    "| **Architecture Component** | **Value** |\n",
    "|----------------------------|-----------|\n",
    "| Encoder Layers (n_layers)  | 6         |\n",
    "| Attention Heads (n_heads)  | 8         |\n",
    "| Embedding Size (d_model)   | 768       |\n",
    "| Feedforward Dimension (d_ff) | 3072    |\n",
    "| Key/Value Dimensions (d_k, d_v) | 64   |\n",
    "| Number of Segments (n_segments) | 2   |\n",
    "\n",
    "---\n",
    "\n",
    "## Limitations and Challenges\n",
    "\n",
    "1. **GPU Memory Limitations**: The batch size was constrained by the available GPU memory, which affected training speed.\n",
    "2. **Overfitting**: With 1000 epochs of pre-training and fine-tuning, there is a risk of overfitting. This could have been mitigated with regularization or early stopping.\n",
    "3. **Long Sequence Handling**: Although the model can process sequences up to 1000 tokens, longer sequences may result in truncation, losing valuable information.\n",
    "\n",
    "---\n",
    "\n",
    "## Proposed Improvements\n",
    "\n",
    "- **Hardware Upgrade**: Increasing the available GPU memory could allow for larger batch sizes and faster training.\n",
    "- **Regularization**: Apply dropout or weight decay to prevent overfitting, especially during fine-tuning.\n",
    "- **Learning Rate Tuning**: Implement a learning rate schedule to improve convergence during training.\n",
    "\n",
    "---"
   ]
  }
 ],
 "metadata": {
  "kernelspec": {
   "display_name": "Python 3",
   "language": "python",
   "name": "python3"
  },
  "language_info": {
   "codemirror_mode": {
    "name": "ipython",
    "version": 3
   },
   "file_extension": ".py",
   "mimetype": "text/x-python",
   "name": "python",
   "nbconvert_exporter": "python",
   "pygments_lexer": "ipython3",
   "version": "3.11.0"
  }
 },
 "nbformat": 4,
 "nbformat_minor": 4
}
