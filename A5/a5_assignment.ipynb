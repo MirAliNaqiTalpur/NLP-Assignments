{
 "cells": [
  {
   "cell_type": "markdown",
   "metadata": {},
   "source": [
    "###"
   ]
  },
  {
   "cell_type": "markdown",
   "metadata": {},
   "source": [
    "## 1 .Loading Dataset,"
   ]
  },
  {
   "cell_type": "code",
   "execution_count": 1,
   "metadata": {},
   "outputs": [
    {
     "name": "stdout",
     "output_type": "stream",
     "text": [
      "WARNING:tensorflow:From c:\\Users\\Mir Ali\\AppData\\Local\\Programs\\Python\\Python311\\Lib\\site-packages\\tf_keras\\src\\losses.py:2976: The name tf.losses.sparse_softmax_cross_entropy is deprecated. Please use tf.compat.v1.losses.sparse_softmax_cross_entropy instead.\n",
      "\n"
     ]
    }
   ],
   "source": [
    "from torch.nn import functional as F\n",
    "import torch\n",
    "from transformers import AutoModelForCausalLM,  GPT2Tokenizer\n",
    "from trl import DPOTrainer, DPOConfig\n",
    "from datasets import load_dataset, Dataset\n",
    "from huggingface_hub import login\n",
    "import pandas as pd\n",
    "from sklearn.metrics import accuracy_score\n",
    "import numpy as np\n",
    "import logging\n",
    "from huggingface_hub import notebook_login, whoami\n",
    "import wandb"
   ]
  },
  {
   "cell_type": "code",
   "execution_count": 2,
   "metadata": {},
   "outputs": [],
   "source": [
    "# Initialize logging for monitoring\n",
    "logging.basicConfig(level=logging.INFO)"
   ]
  },
  {
   "cell_type": "code",
   "execution_count": 3,
   "metadata": {},
   "outputs": [
    {
     "name": "stderr",
     "output_type": "stream",
     "text": [
      "\u001b[34m\u001b[1mwandb\u001b[0m: Using wandb-core as the SDK backend.  Please refer to https://wandb.me/wandb-core for more information.\n",
      "\u001b[34m\u001b[1mwandb\u001b[0m: Currently logged in as: \u001b[33mmirali111\u001b[0m (\u001b[33mmirali111-asian-institue-of-technology\u001b[0m) to \u001b[32mhttps://api.wandb.ai\u001b[0m. Use \u001b[1m`wandb login --relogin`\u001b[0m to force relogin\n"
     ]
    },
    {
     "data": {
      "text/plain": [
       "True"
      ]
     },
     "execution_count": 3,
     "metadata": {},
     "output_type": "execute_result"
    }
   ],
   "source": [
    "# Initialize wandb\n",
    "wandb.login()"
   ]
  },
  {
   "cell_type": "code",
   "execution_count": null,
   "metadata": {},
   "outputs": [
    {
     "data": {
      "application/vnd.jupyter.widget-view+json": {
       "model_id": "598f656f4709485199275893192ad8a4",
       "version_major": 2,
       "version_minor": 0
      },
      "text/plain": [
       "VBox(children=(HTML(value='<center> <img\\nsrc=https://huggingface.co/front/assets/huggingface_logo-noborder.sv…"
      ]
     },
     "metadata": {},
     "output_type": "display_data"
    }
   ],
   "source": [
    "notebook_login()"
   ]
  },
  {
   "cell_type": "markdown",
   "metadata": {},
   "source": [
    "# Full Code with experimentation"
   ]
  },
  {
   "cell_type": "code",
   "execution_count": 5,
   "metadata": {},
   "outputs": [
    {
     "name": "stderr",
     "output_type": "stream",
     "text": [
      "INFO:root:Loading dataset...\n"
     ]
    },
    {
     "data": {
      "text/html": [
       "Tracking run with wandb version 0.19.7"
      ],
      "text/plain": [
       "<IPython.core.display.HTML object>"
      ]
     },
     "metadata": {},
     "output_type": "display_data"
    },
    {
     "data": {
      "text/html": [
       "Run data is saved locally in <code>c:\\Users\\Mir Ali\\Desktop\\AIT\\Data Science and AI\\2nd Semester\\Natural Language Understanding (NLU NLP)\\Assignments\\A5\\wandb\\run-20250228_200017-bg21g3i5</code>"
      ],
      "text/plain": [
       "<IPython.core.display.HTML object>"
      ]
     },
     "metadata": {},
     "output_type": "display_data"
    },
    {
     "data": {
      "text/html": [
       "Syncing run <strong><a href='https://wandb.ai/mirali111-asian-institue-of-technology/dpo-gpt2-tuning/runs/bg21g3i5' target=\"_blank\">lr-5e-05_bs-3_ep-1</a></strong> to <a href='https://wandb.ai/mirali111-asian-institue-of-technology/dpo-gpt2-tuning' target=\"_blank\">Weights & Biases</a> (<a href='https://wandb.me/developer-guide' target=\"_blank\">docs</a>)<br>"
      ],
      "text/plain": [
       "<IPython.core.display.HTML object>"
      ]
     },
     "metadata": {},
     "output_type": "display_data"
    },
    {
     "data": {
      "text/html": [
       " View project at <a href='https://wandb.ai/mirali111-asian-institue-of-technology/dpo-gpt2-tuning' target=\"_blank\">https://wandb.ai/mirali111-asian-institue-of-technology/dpo-gpt2-tuning</a>"
      ],
      "text/plain": [
       "<IPython.core.display.HTML object>"
      ]
     },
     "metadata": {},
     "output_type": "display_data"
    },
    {
     "data": {
      "text/html": [
       " View run at <a href='https://wandb.ai/mirali111-asian-institue-of-technology/dpo-gpt2-tuning/runs/bg21g3i5' target=\"_blank\">https://wandb.ai/mirali111-asian-institue-of-technology/dpo-gpt2-tuning/runs/bg21g3i5</a>"
      ],
      "text/plain": [
       "<IPython.core.display.HTML object>"
      ]
     },
     "metadata": {},
     "output_type": "display_data"
    },
    {
     "name": "stderr",
     "output_type": "stream",
     "text": [
      "INFO:root:Training with {'learning_rate': 5e-05, 'batch_size': 3, 'weight_decay': 0.01}\n"
     ]
    },
    {
     "data": {
      "application/vnd.jupyter.widget-view+json": {
       "model_id": "87037cf328674c759efc535ce2ab6dc5",
       "version_major": 2,
       "version_minor": 0
      },
      "text/plain": [
       "Extracting prompt in train dataset:   0%|          | 0/800 [00:00<?, ? examples/s]"
      ]
     },
     "metadata": {},
     "output_type": "display_data"
    },
    {
     "data": {
      "application/vnd.jupyter.widget-view+json": {
       "model_id": "c369a4b5a2de48e39d0b6bbbcda76e7b",
       "version_major": 2,
       "version_minor": 0
      },
      "text/plain": [
       "Applying chat template to train dataset:   0%|          | 0/800 [00:00<?, ? examples/s]"
      ]
     },
     "metadata": {},
     "output_type": "display_data"
    },
    {
     "data": {
      "application/vnd.jupyter.widget-view+json": {
       "model_id": "861ee2cff3de432fb41db11229991d8f",
       "version_major": 2,
       "version_minor": 0
      },
      "text/plain": [
       "Tokenizing train dataset:   0%|          | 0/800 [00:00<?, ? examples/s]"
      ]
     },
     "metadata": {},
     "output_type": "display_data"
    },
    {
     "data": {
      "application/vnd.jupyter.widget-view+json": {
       "model_id": "120abe08fe2e416b8d7f40f55be36b8a",
       "version_major": 2,
       "version_minor": 0
      },
      "text/plain": [
       "Extracting prompt in eval dataset:   0%|          | 0/200 [00:00<?, ? examples/s]"
      ]
     },
     "metadata": {},
     "output_type": "display_data"
    },
    {
     "data": {
      "application/vnd.jupyter.widget-view+json": {
       "model_id": "ab3c4d3172e04587a12fb013094c9792",
       "version_major": 2,
       "version_minor": 0
      },
      "text/plain": [
       "Applying chat template to eval dataset:   0%|          | 0/200 [00:00<?, ? examples/s]"
      ]
     },
     "metadata": {},
     "output_type": "display_data"
    },
    {
     "data": {
      "application/vnd.jupyter.widget-view+json": {
       "model_id": "01fa6ccc5f514e17b557e5ce8f35e25d",
       "version_major": 2,
       "version_minor": 0
      },
      "text/plain": [
       "Tokenizing eval dataset:   0%|          | 0/200 [00:00<?, ? examples/s]"
      ]
     },
     "metadata": {},
     "output_type": "display_data"
    },
    {
     "name": "stderr",
     "output_type": "stream",
     "text": [
      "\u001b[34m\u001b[1mwandb\u001b[0m: \u001b[33mWARNING\u001b[0m The `run_name` is currently set to the same value as `TrainingArguments.output_dir`. If this was not intended, please specify a different run name by setting the `TrainingArguments.run_name` parameter.\n",
      "c:\\Users\\Mir Ali\\AppData\\Local\\Programs\\Python\\Python311\\Lib\\site-packages\\transformers\\integrations\\sdpa_attention.py:53: UserWarning: 1Torch was not compiled with flash attention. (Triggered internally at ..\\aten\\src\\ATen\\native\\transformers\\cuda\\sdp_utils.cpp:455.)\n",
      "  attn_output = torch.nn.functional.scaled_dot_product_attention(\n"
     ]
    },
    {
     "data": {
      "text/html": [
       "\n",
       "    <div>\n",
       "      \n",
       "      <progress value='534' max='534' style='width:300px; height:20px; vertical-align: middle;'></progress>\n",
       "      [534/534 16:56, Epoch 2/2]\n",
       "    </div>\n",
       "    <table border=\"1\" class=\"dataframe\">\n",
       "  <thead>\n",
       " <tr style=\"text-align: left;\">\n",
       "      <th>Epoch</th>\n",
       "      <th>Training Loss</th>\n",
       "      <th>Validation Loss</th>\n",
       "      <th>Rewards/chosen</th>\n",
       "      <th>Rewards/rejected</th>\n",
       "      <th>Rewards/accuracies</th>\n",
       "      <th>Rewards/margins</th>\n",
       "      <th>Logps/chosen</th>\n",
       "      <th>Logps/rejected</th>\n",
       "      <th>Logits/chosen</th>\n",
       "      <th>Logits/rejected</th>\n",
       "    </tr>\n",
       "  </thead>\n",
       "  <tbody>\n",
       "    <tr>\n",
       "      <td>1</td>\n",
       "      <td>0.787100</td>\n",
       "      <td>0.706522</td>\n",
       "      <td>-1.121301</td>\n",
       "      <td>-1.973873</td>\n",
       "      <td>0.686567</td>\n",
       "      <td>0.852573</td>\n",
       "      <td>-126.268555</td>\n",
       "      <td>-171.166153</td>\n",
       "      <td>-114.789146</td>\n",
       "      <td>-113.331436</td>\n",
       "    </tr>\n",
       "    <tr>\n",
       "      <td>2</td>\n",
       "      <td>0.258600</td>\n",
       "      <td>1.058684</td>\n",
       "      <td>-3.213047</td>\n",
       "      <td>-4.710779</td>\n",
       "      <td>0.641791</td>\n",
       "      <td>1.497732</td>\n",
       "      <td>-147.186020</td>\n",
       "      <td>-198.535187</td>\n",
       "      <td>-149.755096</td>\n",
       "      <td>-148.591812</td>\n",
       "    </tr>\n",
       "  </tbody>\n",
       "</table><p>"
      ],
      "text/plain": [
       "<IPython.core.display.HTML object>"
      ]
     },
     "metadata": {},
     "output_type": "display_data"
    },
    {
     "data": {
      "text/html": [
       "\n",
       "    <div>\n",
       "      \n",
       "      <progress value='134' max='67' style='width:300px; height:20px; vertical-align: middle;'></progress>\n",
       "      [67/67 00:54]\n",
       "    </div>\n",
       "    "
      ],
      "text/plain": [
       "<IPython.core.display.HTML object>"
      ]
     },
     "metadata": {},
     "output_type": "display_data"
    },
    {
     "name": "stderr",
     "output_type": "stream",
     "text": [
      "INFO:root:Eval Loss: 1.0586844682693481\n"
     ]
    },
    {
     "data": {
      "text/html": [],
      "text/plain": [
       "<IPython.core.display.HTML object>"
      ]
     },
     "metadata": {},
     "output_type": "display_data"
    },
    {
     "data": {
      "text/html": [
       "<br>    <style><br>        .wandb-row {<br>            display: flex;<br>            flex-direction: row;<br>            flex-wrap: wrap;<br>            justify-content: flex-start;<br>            width: 100%;<br>        }<br>        .wandb-col {<br>            display: flex;<br>            flex-direction: column;<br>            flex-basis: 100%;<br>            flex: 1;<br>            padding: 10px;<br>        }<br>    </style><br><div class=\"wandb-row\"><div class=\"wandb-col\"><h3>Run history:</h3><br/><table class=\"wandb\"><tr><td>eval/logits/chosen</td><td>█▁▁▁</td></tr><tr><td>eval/logits/rejected</td><td>█▁▁▁</td></tr><tr><td>eval/logps/chosen</td><td>█▁▁▁</td></tr><tr><td>eval/logps/rejected</td><td>█▁▁▁</td></tr><tr><td>eval/loss</td><td>▁███</td></tr><tr><td>eval/rewards/accuracies</td><td>█▁▁▁</td></tr><tr><td>eval/rewards/chosen</td><td>█▁▁▁</td></tr><tr><td>eval/rewards/margins</td><td>▁███</td></tr><tr><td>eval/rewards/rejected</td><td>█▁▁▁</td></tr><tr><td>eval/runtime</td><td>▁██▆</td></tr><tr><td>eval/samples_per_second</td><td>█▁▁▂</td></tr><tr><td>eval/steps_per_second</td><td>█▁▁▂</td></tr><tr><td>final_eval_loss</td><td>▁</td></tr><tr><td>train/epoch</td><td>▁▁█████</td></tr><tr><td>train/global_step</td><td>▁▁██████</td></tr><tr><td>train/grad_norm</td><td>█▁</td></tr><tr><td>train/learning_rate</td><td>█▁</td></tr><tr><td>train/logits/chosen</td><td>█▁</td></tr><tr><td>train/logits/rejected</td><td>█▁</td></tr><tr><td>train/logps/chosen</td><td>█▁</td></tr><tr><td>train/logps/rejected</td><td>█▁</td></tr><tr><td>train/loss</td><td>█▁</td></tr><tr><td>train/rewards/accuracies</td><td>▁█</td></tr><tr><td>train/rewards/chosen</td><td>█▁</td></tr><tr><td>train/rewards/margins</td><td>▁█</td></tr><tr><td>train/rewards/rejected</td><td>█▁</td></tr></table><br/></div><div class=\"wandb-col\"><h3>Run summary:</h3><br/><table class=\"wandb\"><tr><td>best_model</td><td>True</td></tr><tr><td>eval/logits/chosen</td><td>-149.7551</td></tr><tr><td>eval/logits/rejected</td><td>-148.59181</td></tr><tr><td>eval/logps/chosen</td><td>-147.18602</td></tr><tr><td>eval/logps/rejected</td><td>-198.53519</td></tr><tr><td>eval/loss</td><td>1.05868</td></tr><tr><td>eval/rewards/accuracies</td><td>0.64179</td></tr><tr><td>eval/rewards/chosen</td><td>-3.21305</td></tr><tr><td>eval/rewards/margins</td><td>1.49773</td></tr><tr><td>eval/rewards/rejected</td><td>-4.71078</td></tr><tr><td>eval/runtime</td><td>27.6156</td></tr><tr><td>eval/samples_per_second</td><td>7.242</td></tr><tr><td>eval/steps_per_second</td><td>2.426</td></tr><tr><td>final_eval_loss</td><td>1.05868</td></tr><tr><td>total_flos</td><td>0</td></tr><tr><td>train/epoch</td><td>2</td></tr><tr><td>train/global_step</td><td>534</td></tr><tr><td>train/grad_norm</td><td>5.89451</td></tr><tr><td>train/learning_rate</td><td>0.0</td></tr><tr><td>train/logits/chosen</td><td>-139.05722</td></tr><tr><td>train/logits/rejected</td><td>-137.50548</td></tr><tr><td>train/logps/chosen</td><td>-129.58916</td></tr><tr><td>train/logps/rejected</td><td>-205.67783</td></tr><tr><td>train/loss</td><td>0.2586</td></tr><tr><td>train/rewards/accuracies</td><td>0.91885</td></tr><tr><td>train/rewards/chosen</td><td>-1.44487</td></tr><tr><td>train/rewards/margins</td><td>4.73476</td></tr><tr><td>train/rewards/rejected</td><td>-6.17963</td></tr><tr><td>train_loss</td><td>0.52283</td></tr><tr><td>train_runtime</td><td>1017.8666</td></tr><tr><td>train_samples_per_second</td><td>1.572</td></tr><tr><td>train_steps_per_second</td><td>0.525</td></tr></table><br/></div></div>"
      ],
      "text/plain": [
       "<IPython.core.display.HTML object>"
      ]
     },
     "metadata": {},
     "output_type": "display_data"
    },
    {
     "data": {
      "text/html": [
       " View run <strong style=\"color:#cdcd00\">lr-5e-05_bs-3_ep-1</strong> at: <a href='https://wandb.ai/mirali111-asian-institue-of-technology/dpo-gpt2-tuning/runs/bg21g3i5' target=\"_blank\">https://wandb.ai/mirali111-asian-institue-of-technology/dpo-gpt2-tuning/runs/bg21g3i5</a><br> View project at: <a href='https://wandb.ai/mirali111-asian-institue-of-technology/dpo-gpt2-tuning' target=\"_blank\">https://wandb.ai/mirali111-asian-institue-of-technology/dpo-gpt2-tuning</a><br>Synced 5 W&B file(s), 0 media file(s), 0 artifact file(s) and 0 other file(s)"
      ],
      "text/plain": [
       "<IPython.core.display.HTML object>"
      ]
     },
     "metadata": {},
     "output_type": "display_data"
    },
    {
     "data": {
      "text/html": [
       "Find logs at: <code>.\\wandb\\run-20250228_200017-bg21g3i5\\logs</code>"
      ],
      "text/plain": [
       "<IPython.core.display.HTML object>"
      ]
     },
     "metadata": {},
     "output_type": "display_data"
    },
    {
     "data": {
      "text/html": [
       "Tracking run with wandb version 0.19.7"
      ],
      "text/plain": [
       "<IPython.core.display.HTML object>"
      ]
     },
     "metadata": {},
     "output_type": "display_data"
    },
    {
     "data": {
      "text/html": [
       "Run data is saved locally in <code>c:\\Users\\Mir Ali\\Desktop\\AIT\\Data Science and AI\\2nd Semester\\Natural Language Understanding (NLU NLP)\\Assignments\\A5\\wandb\\run-20250228_201820-2cej41hw</code>"
      ],
      "text/plain": [
       "<IPython.core.display.HTML object>"
      ]
     },
     "metadata": {},
     "output_type": "display_data"
    },
    {
     "data": {
      "text/html": [
       "Syncing run <strong><a href='https://wandb.ai/mirali111-asian-institue-of-technology/dpo-gpt2-tuning/runs/2cej41hw' target=\"_blank\">lr-0.0001_bs-3_ep-1</a></strong> to <a href='https://wandb.ai/mirali111-asian-institue-of-technology/dpo-gpt2-tuning' target=\"_blank\">Weights & Biases</a> (<a href='https://wandb.me/developer-guide' target=\"_blank\">docs</a>)<br>"
      ],
      "text/plain": [
       "<IPython.core.display.HTML object>"
      ]
     },
     "metadata": {},
     "output_type": "display_data"
    },
    {
     "data": {
      "text/html": [
       " View project at <a href='https://wandb.ai/mirali111-asian-institue-of-technology/dpo-gpt2-tuning' target=\"_blank\">https://wandb.ai/mirali111-asian-institue-of-technology/dpo-gpt2-tuning</a>"
      ],
      "text/plain": [
       "<IPython.core.display.HTML object>"
      ]
     },
     "metadata": {},
     "output_type": "display_data"
    },
    {
     "data": {
      "text/html": [
       " View run at <a href='https://wandb.ai/mirali111-asian-institue-of-technology/dpo-gpt2-tuning/runs/2cej41hw' target=\"_blank\">https://wandb.ai/mirali111-asian-institue-of-technology/dpo-gpt2-tuning/runs/2cej41hw</a>"
      ],
      "text/plain": [
       "<IPython.core.display.HTML object>"
      ]
     },
     "metadata": {},
     "output_type": "display_data"
    },
    {
     "name": "stderr",
     "output_type": "stream",
     "text": [
      "INFO:root:Training with {'learning_rate': 0.0001, 'batch_size': 3, 'weight_decay': 0.01}\n"
     ]
    },
    {
     "data": {
      "text/html": [
       "\n",
       "    <div>\n",
       "      \n",
       "      <progress value='534' max='534' style='width:300px; height:20px; vertical-align: middle;'></progress>\n",
       "      [534/534 17:04, Epoch 2/2]\n",
       "    </div>\n",
       "    <table border=\"1\" class=\"dataframe\">\n",
       "  <thead>\n",
       " <tr style=\"text-align: left;\">\n",
       "      <th>Epoch</th>\n",
       "      <th>Training Loss</th>\n",
       "      <th>Validation Loss</th>\n",
       "      <th>Rewards/chosen</th>\n",
       "      <th>Rewards/rejected</th>\n",
       "      <th>Rewards/accuracies</th>\n",
       "      <th>Rewards/margins</th>\n",
       "      <th>Logps/chosen</th>\n",
       "      <th>Logps/rejected</th>\n",
       "      <th>Logits/chosen</th>\n",
       "      <th>Logits/rejected</th>\n",
       "    </tr>\n",
       "  </thead>\n",
       "  <tbody>\n",
       "    <tr>\n",
       "      <td>1</td>\n",
       "      <td>1.404800</td>\n",
       "      <td>1.963546</td>\n",
       "      <td>-8.770614</td>\n",
       "      <td>-11.583295</td>\n",
       "      <td>0.626866</td>\n",
       "      <td>2.812682</td>\n",
       "      <td>-234.892136</td>\n",
       "      <td>-314.368134</td>\n",
       "      <td>-106.181564</td>\n",
       "      <td>-107.275963</td>\n",
       "    </tr>\n",
       "    <tr>\n",
       "      <td>2</td>\n",
       "      <td>0.225600</td>\n",
       "      <td>2.168074</td>\n",
       "      <td>-8.890997</td>\n",
       "      <td>-12.068528</td>\n",
       "      <td>0.616915</td>\n",
       "      <td>3.177531</td>\n",
       "      <td>-236.095993</td>\n",
       "      <td>-319.220490</td>\n",
       "      <td>-94.247330</td>\n",
       "      <td>-95.396240</td>\n",
       "    </tr>\n",
       "  </tbody>\n",
       "</table><p>"
      ],
      "text/plain": [
       "<IPython.core.display.HTML object>"
      ]
     },
     "metadata": {},
     "output_type": "display_data"
    },
    {
     "data": {
      "text/html": [
       "\n",
       "    <div>\n",
       "      \n",
       "      <progress value='134' max='67' style='width:300px; height:20px; vertical-align: middle;'></progress>\n",
       "      [67/67 00:54]\n",
       "    </div>\n",
       "    "
      ],
      "text/plain": [
       "<IPython.core.display.HTML object>"
      ]
     },
     "metadata": {},
     "output_type": "display_data"
    },
    {
     "name": "stderr",
     "output_type": "stream",
     "text": [
      "INFO:root:Eval Loss: 2.168074131011963\n"
     ]
    },
    {
     "data": {
      "text/html": [],
      "text/plain": [
       "<IPython.core.display.HTML object>"
      ]
     },
     "metadata": {},
     "output_type": "display_data"
    },
    {
     "data": {
      "text/html": [
       "<br>    <style><br>        .wandb-row {<br>            display: flex;<br>            flex-direction: row;<br>            flex-wrap: wrap;<br>            justify-content: flex-start;<br>            width: 100%;<br>        }<br>        .wandb-col {<br>            display: flex;<br>            flex-direction: column;<br>            flex-basis: 100%;<br>            flex: 1;<br>            padding: 10px;<br>        }<br>    </style><br><div class=\"wandb-row\"><div class=\"wandb-col\"><h3>Run history:</h3><br/><table class=\"wandb\"><tr><td>eval/logits/chosen</td><td>▁███</td></tr><tr><td>eval/logits/rejected</td><td>▁███</td></tr><tr><td>eval/logps/chosen</td><td>█▁▁▁</td></tr><tr><td>eval/logps/rejected</td><td>█▁▁▁</td></tr><tr><td>eval/loss</td><td>▁███</td></tr><tr><td>eval/rewards/accuracies</td><td>█▁▁▁</td></tr><tr><td>eval/rewards/chosen</td><td>█▁▁▁</td></tr><tr><td>eval/rewards/margins</td><td>▁███</td></tr><tr><td>eval/rewards/rejected</td><td>█▁▁▁</td></tr><tr><td>eval/runtime</td><td>▅█▇▁</td></tr><tr><td>eval/samples_per_second</td><td>▄▁▂█</td></tr><tr><td>eval/steps_per_second</td><td>▄▁▂█</td></tr><tr><td>final_eval_loss</td><td>▁</td></tr><tr><td>train/epoch</td><td>▁▁█████</td></tr><tr><td>train/global_step</td><td>▁▁██████</td></tr><tr><td>train/grad_norm</td><td>█▁</td></tr><tr><td>train/learning_rate</td><td>█▁</td></tr><tr><td>train/logits/chosen</td><td>▁█</td></tr><tr><td>train/logits/rejected</td><td>▁█</td></tr><tr><td>train/logps/chosen</td><td>▁█</td></tr><tr><td>train/logps/rejected</td><td>█▁</td></tr><tr><td>train/loss</td><td>█▁</td></tr><tr><td>train/rewards/accuracies</td><td>▁█</td></tr><tr><td>train/rewards/chosen</td><td>▁█</td></tr><tr><td>train/rewards/margins</td><td>▁█</td></tr><tr><td>train/rewards/rejected</td><td>█▁</td></tr></table><br/></div><div class=\"wandb-col\"><h3>Run summary:</h3><br/><table class=\"wandb\"><tr><td>eval/logits/chosen</td><td>-94.24733</td></tr><tr><td>eval/logits/rejected</td><td>-95.39624</td></tr><tr><td>eval/logps/chosen</td><td>-236.09599</td></tr><tr><td>eval/logps/rejected</td><td>-319.22049</td></tr><tr><td>eval/loss</td><td>2.16807</td></tr><tr><td>eval/rewards/accuracies</td><td>0.61692</td></tr><tr><td>eval/rewards/chosen</td><td>-8.891</td></tr><tr><td>eval/rewards/margins</td><td>3.17753</td></tr><tr><td>eval/rewards/rejected</td><td>-12.06853</td></tr><tr><td>eval/runtime</td><td>27.5798</td></tr><tr><td>eval/samples_per_second</td><td>7.252</td></tr><tr><td>eval/steps_per_second</td><td>2.429</td></tr><tr><td>final_eval_loss</td><td>2.16807</td></tr><tr><td>total_flos</td><td>0</td></tr><tr><td>train/epoch</td><td>2</td></tr><tr><td>train/global_step</td><td>534</td></tr><tr><td>train/grad_norm</td><td>5.03618</td></tr><tr><td>train/learning_rate</td><td>0.0</td></tr><tr><td>train/logits/chosen</td><td>-101.30486</td></tr><tr><td>train/logits/rejected</td><td>-97.36426</td></tr><tr><td>train/logps/chosen</td><td>-166.29762</td></tr><tr><td>train/logps/rejected</td><td>-386.49139</td></tr><tr><td>train/loss</td><td>0.2256</td></tr><tr><td>train/rewards/accuracies</td><td>0.95006</td></tr><tr><td>train/rewards/chosen</td><td>-4.65361</td></tr><tr><td>train/rewards/margins</td><td>12.08355</td></tr><tr><td>train/rewards/rejected</td><td>-16.73717</td></tr><tr><td>train_loss</td><td>0.81516</td></tr><tr><td>train_runtime</td><td>1024.6104</td></tr><tr><td>train_samples_per_second</td><td>1.562</td></tr><tr><td>train_steps_per_second</td><td>0.521</td></tr></table><br/></div></div>"
      ],
      "text/plain": [
       "<IPython.core.display.HTML object>"
      ]
     },
     "metadata": {},
     "output_type": "display_data"
    },
    {
     "data": {
      "text/html": [
       " View run <strong style=\"color:#cdcd00\">lr-0.0001_bs-3_ep-1</strong> at: <a href='https://wandb.ai/mirali111-asian-institue-of-technology/dpo-gpt2-tuning/runs/2cej41hw' target=\"_blank\">https://wandb.ai/mirali111-asian-institue-of-technology/dpo-gpt2-tuning/runs/2cej41hw</a><br> View project at: <a href='https://wandb.ai/mirali111-asian-institue-of-technology/dpo-gpt2-tuning' target=\"_blank\">https://wandb.ai/mirali111-asian-institue-of-technology/dpo-gpt2-tuning</a><br>Synced 5 W&B file(s), 0 media file(s), 0 artifact file(s) and 0 other file(s)"
      ],
      "text/plain": [
       "<IPython.core.display.HTML object>"
      ]
     },
     "metadata": {},
     "output_type": "display_data"
    },
    {
     "data": {
      "text/html": [
       "Find logs at: <code>.\\wandb\\run-20250228_201820-2cej41hw\\logs</code>"
      ],
      "text/plain": [
       "<IPython.core.display.HTML object>"
      ]
     },
     "metadata": {},
     "output_type": "display_data"
    },
    {
     "data": {
      "text/html": [
       "Tracking run with wandb version 0.19.7"
      ],
      "text/plain": [
       "<IPython.core.display.HTML object>"
      ]
     },
     "metadata": {},
     "output_type": "display_data"
    },
    {
     "data": {
      "text/html": [
       "Run data is saved locally in <code>c:\\Users\\Mir Ali\\Desktop\\AIT\\Data Science and AI\\2nd Semester\\Natural Language Understanding (NLU NLP)\\Assignments\\A5\\wandb\\run-20250228_203629-40506liv</code>"
      ],
      "text/plain": [
       "<IPython.core.display.HTML object>"
      ]
     },
     "metadata": {},
     "output_type": "display_data"
    },
    {
     "data": {
      "text/html": [
       "Syncing run <strong><a href='https://wandb.ai/mirali111-asian-institue-of-technology/dpo-gpt2-tuning/runs/40506liv' target=\"_blank\">lr-2e-05_bs-4_ep-1</a></strong> to <a href='https://wandb.ai/mirali111-asian-institue-of-technology/dpo-gpt2-tuning' target=\"_blank\">Weights & Biases</a> (<a href='https://wandb.me/developer-guide' target=\"_blank\">docs</a>)<br>"
      ],
      "text/plain": [
       "<IPython.core.display.HTML object>"
      ]
     },
     "metadata": {},
     "output_type": "display_data"
    },
    {
     "data": {
      "text/html": [
       " View project at <a href='https://wandb.ai/mirali111-asian-institue-of-technology/dpo-gpt2-tuning' target=\"_blank\">https://wandb.ai/mirali111-asian-institue-of-technology/dpo-gpt2-tuning</a>"
      ],
      "text/plain": [
       "<IPython.core.display.HTML object>"
      ]
     },
     "metadata": {},
     "output_type": "display_data"
    },
    {
     "data": {
      "text/html": [
       " View run at <a href='https://wandb.ai/mirali111-asian-institue-of-technology/dpo-gpt2-tuning/runs/40506liv' target=\"_blank\">https://wandb.ai/mirali111-asian-institue-of-technology/dpo-gpt2-tuning/runs/40506liv</a>"
      ],
      "text/plain": [
       "<IPython.core.display.HTML object>"
      ]
     },
     "metadata": {},
     "output_type": "display_data"
    },
    {
     "name": "stderr",
     "output_type": "stream",
     "text": [
      "INFO:root:Training with {'learning_rate': 2e-05, 'batch_size': 4, 'weight_decay': 0.005}\n"
     ]
    },
    {
     "data": {
      "text/html": [
       "\n",
       "    <div>\n",
       "      \n",
       "      <progress value='400' max='400' style='width:300px; height:20px; vertical-align: middle;'></progress>\n",
       "      [400/400 22:48, Epoch 2/2]\n",
       "    </div>\n",
       "    <table border=\"1\" class=\"dataframe\">\n",
       "  <thead>\n",
       " <tr style=\"text-align: left;\">\n",
       "      <th>Epoch</th>\n",
       "      <th>Training Loss</th>\n",
       "      <th>Validation Loss</th>\n",
       "      <th>Rewards/chosen</th>\n",
       "      <th>Rewards/rejected</th>\n",
       "      <th>Rewards/accuracies</th>\n",
       "      <th>Rewards/margins</th>\n",
       "      <th>Logps/chosen</th>\n",
       "      <th>Logps/rejected</th>\n",
       "      <th>Logits/chosen</th>\n",
       "      <th>Logits/rejected</th>\n",
       "    </tr>\n",
       "  </thead>\n",
       "  <tbody>\n",
       "    <tr>\n",
       "      <td>1</td>\n",
       "      <td>0.239000</td>\n",
       "      <td>1.387028</td>\n",
       "      <td>-4.881563</td>\n",
       "      <td>-6.466868</td>\n",
       "      <td>0.600000</td>\n",
       "      <td>1.585306</td>\n",
       "      <td>-284.344757</td>\n",
       "      <td>-383.350128</td>\n",
       "      <td>-83.633575</td>\n",
       "      <td>-85.980957</td>\n",
       "    </tr>\n",
       "    <tr>\n",
       "      <td>2</td>\n",
       "      <td>0.021900</td>\n",
       "      <td>1.541081</td>\n",
       "      <td>-5.837779</td>\n",
       "      <td>-7.798605</td>\n",
       "      <td>0.635000</td>\n",
       "      <td>1.960826</td>\n",
       "      <td>-293.906921</td>\n",
       "      <td>-396.667450</td>\n",
       "      <td>-81.052391</td>\n",
       "      <td>-83.480858</td>\n",
       "    </tr>\n",
       "  </tbody>\n",
       "</table><p>"
      ],
      "text/plain": [
       "<IPython.core.display.HTML object>"
      ]
     },
     "metadata": {},
     "output_type": "display_data"
    },
    {
     "data": {
      "text/html": [
       "\n",
       "    <div>\n",
       "      \n",
       "      <progress value='100' max='50' style='width:300px; height:20px; vertical-align: middle;'></progress>\n",
       "      [50/50 01:01]\n",
       "    </div>\n",
       "    "
      ],
      "text/plain": [
       "<IPython.core.display.HTML object>"
      ]
     },
     "metadata": {},
     "output_type": "display_data"
    },
    {
     "name": "stderr",
     "output_type": "stream",
     "text": [
      "INFO:root:Eval Loss: 1.5410810708999634\n"
     ]
    },
    {
     "data": {
      "application/vnd.jupyter.widget-view+json": {
       "model_id": "4d96ba28ecd14f6cba1f3eb5d90a0fab",
       "version_major": 2,
       "version_minor": 0
      },
      "text/plain": [
       "model.safetensors:   0%|          | 0.00/498M [00:00<?, ?B/s]"
      ]
     },
     "metadata": {},
     "output_type": "display_data"
    },
    {
     "data": {
      "application/vnd.jupyter.widget-view+json": {
       "model_id": "287c8256136f401bbf17526405f2c33b",
       "version_major": 2,
       "version_minor": 0
      },
      "text/plain": [
       "README.md:   0%|          | 0.00/5.18k [00:00<?, ?B/s]"
      ]
     },
     "metadata": {},
     "output_type": "display_data"
    },
    {
     "name": "stderr",
     "output_type": "stream",
     "text": [
      "c:\\Users\\Mir Ali\\AppData\\Local\\Programs\\Python\\Python311\\Lib\\site-packages\\huggingface_hub\\file_download.py:140: UserWarning: `huggingface_hub` cache-system uses symlinks by default to efficiently store duplicated files but your machine does not support them in C:\\Users\\Mir Ali\\.cache\\huggingface\\hub\\models--mirali111--dpo-gpt2-model. Caching files will still work but in a degraded version that might require more space on your disk. This warning can be disabled by setting the `HF_HUB_DISABLE_SYMLINKS_WARNING` environment variable. For more details, see https://huggingface.co/docs/huggingface_hub/how-to-cache#limitations.\n",
      "To support symlinks on Windows, you either need to activate Developer Mode or to run Python as an administrator. In order to activate developer mode, see this article: https://docs.microsoft.com/en-us/windows/apps/get-started/enable-your-device-for-development\n",
      "  warnings.warn(message)\n",
      "No files have been modified since last commit. Skipping to prevent empty commit.\n",
      "WARNING:huggingface_hub.hf_api:No files have been modified since last commit. Skipping to prevent empty commit.\n"
     ]
    },
    {
     "data": {
      "text/html": [],
      "text/plain": [
       "<IPython.core.display.HTML object>"
      ]
     },
     "metadata": {},
     "output_type": "display_data"
    },
    {
     "data": {
      "text/html": [
       "<br>    <style><br>        .wandb-row {<br>            display: flex;<br>            flex-direction: row;<br>            flex-wrap: wrap;<br>            justify-content: flex-start;<br>            width: 100%;<br>        }<br>        .wandb-col {<br>            display: flex;<br>            flex-direction: column;<br>            flex-basis: 100%;<br>            flex: 1;<br>            padding: 10px;<br>        }<br>    </style><br><div class=\"wandb-row\"><div class=\"wandb-col\"><h3>Run history:</h3><br/><table class=\"wandb\"><tr><td>eval/logits/chosen</td><td>▁███</td></tr><tr><td>eval/logits/rejected</td><td>▁███</td></tr><tr><td>eval/logps/chosen</td><td>█▁▁▁</td></tr><tr><td>eval/logps/rejected</td><td>█▁▁▁</td></tr><tr><td>eval/loss</td><td>▁███</td></tr><tr><td>eval/rewards/accuracies</td><td>▁███</td></tr><tr><td>eval/rewards/chosen</td><td>█▁▁▁</td></tr><tr><td>eval/rewards/margins</td><td>▁███</td></tr><tr><td>eval/rewards/rejected</td><td>█▁▁▁</td></tr><tr><td>eval/runtime</td><td>▇▅█▁</td></tr><tr><td>eval/samples_per_second</td><td>▃▄▁█</td></tr><tr><td>eval/steps_per_second</td><td>▂▄▁█</td></tr><tr><td>final_eval_loss</td><td>▁</td></tr><tr><td>train/epoch</td><td>▁▁█████</td></tr><tr><td>train/global_step</td><td>▁▁███████</td></tr><tr><td>train/grad_norm</td><td>█▁</td></tr><tr><td>train/learning_rate</td><td>█▁</td></tr><tr><td>train/logits/chosen</td><td>▁█</td></tr><tr><td>train/logits/rejected</td><td>▁█</td></tr><tr><td>train/logps/chosen</td><td>▁█</td></tr><tr><td>train/logps/rejected</td><td>█▁</td></tr><tr><td>train/loss</td><td>█▁</td></tr><tr><td>train/rewards/accuracies</td><td>▁█</td></tr><tr><td>train/rewards/chosen</td><td>▁█</td></tr><tr><td>train/rewards/margins</td><td>▁█</td></tr><tr><td>train/rewards/rejected</td><td>█▁</td></tr></table><br/></div><div class=\"wandb-col\"><h3>Run summary:</h3><br/><table class=\"wandb\"><tr><td>eval/logits/chosen</td><td>-81.05239</td></tr><tr><td>eval/logits/rejected</td><td>-83.48086</td></tr><tr><td>eval/logps/chosen</td><td>-293.90692</td></tr><tr><td>eval/logps/rejected</td><td>-396.66745</td></tr><tr><td>eval/loss</td><td>1.54108</td></tr><tr><td>eval/rewards/accuracies</td><td>0.635</td></tr><tr><td>eval/rewards/chosen</td><td>-5.83778</td></tr><tr><td>eval/rewards/margins</td><td>1.96083</td></tr><tr><td>eval/rewards/rejected</td><td>-7.7986</td></tr><tr><td>eval/runtime</td><td>31.3859</td></tr><tr><td>eval/samples_per_second</td><td>6.372</td></tr><tr><td>eval/steps_per_second</td><td>1.593</td></tr><tr><td>final_eval_loss</td><td>1.54108</td></tr><tr><td>total_flos</td><td>0</td></tr><tr><td>train/epoch</td><td>2</td></tr><tr><td>train/global_step</td><td>400</td></tr><tr><td>train/grad_norm</td><td>0.06362</td></tr><tr><td>train/learning_rate</td><td>0.0</td></tr><tr><td>train/logits/chosen</td><td>-84.02454</td></tr><tr><td>train/logits/rejected</td><td>-76.16561</td></tr><tr><td>train/logps/chosen</td><td>-168.73836</td></tr><tr><td>train/logps/rejected</td><td>-541.13751</td></tr><tr><td>train/loss</td><td>0.0219</td></tr><tr><td>train/rewards/accuracies</td><td>0.9925</td></tr><tr><td>train/rewards/chosen</td><td>-1.75662</td></tr><tr><td>train/rewards/margins</td><td>11.04734</td></tr><tr><td>train/rewards/rejected</td><td>-12.80396</td></tr><tr><td>train_loss</td><td>0.13043</td></tr><tr><td>train_runtime</td><td>1371.0686</td></tr><tr><td>train_samples_per_second</td><td>1.167</td></tr><tr><td>train_steps_per_second</td><td>0.292</td></tr></table><br/></div></div>"
      ],
      "text/plain": [
       "<IPython.core.display.HTML object>"
      ]
     },
     "metadata": {},
     "output_type": "display_data"
    },
    {
     "data": {
      "text/html": [
       " View run <strong style=\"color:#cdcd00\">lr-2e-05_bs-4_ep-1</strong> at: <a href='https://wandb.ai/mirali111-asian-institue-of-technology/dpo-gpt2-tuning/runs/40506liv' target=\"_blank\">https://wandb.ai/mirali111-asian-institue-of-technology/dpo-gpt2-tuning/runs/40506liv</a><br> View project at: <a href='https://wandb.ai/mirali111-asian-institue-of-technology/dpo-gpt2-tuning' target=\"_blank\">https://wandb.ai/mirali111-asian-institue-of-technology/dpo-gpt2-tuning</a><br>Synced 5 W&B file(s), 1 media file(s), 2 artifact file(s) and 0 other file(s)"
      ],
      "text/plain": [
       "<IPython.core.display.HTML object>"
      ]
     },
     "metadata": {},
     "output_type": "display_data"
    },
    {
     "data": {
      "text/html": [
       "Find logs at: <code>.\\wandb\\run-20250228_203629-40506liv\\logs</code>"
      ],
      "text/plain": [
       "<IPython.core.display.HTML object>"
      ]
     },
     "metadata": {},
     "output_type": "display_data"
    }
   ],
   "source": [
    "# Load dataset\n",
    "logging.info(\"Loading dataset...\")\n",
    "dataset = load_dataset(\"Anthropic/hh-rlhf\", split=\"train[:1000]\")\n",
    "\n",
    "# Load tokenizer and model\n",
    "tokenizer = GPT2Tokenizer.from_pretrained(\"gpt2\")\n",
    "tokenizer.pad_token = tokenizer.eos_token\n",
    "\n",
    "model = AutoModelForCausalLM.from_pretrained(\"gpt2\").cuda()\n",
    "\n",
    "# Preprocess dataset\n",
    "def preprocess_function(examples):\n",
    "    chosen = tokenizer(examples['chosen'], truncation=True, padding='max_length', max_length=512)\n",
    "    rejected = tokenizer(examples['rejected'], truncation=True, padding='max_length', max_length=512)\n",
    "    return {\n",
    "        'chosen_input_ids': chosen['input_ids'],\n",
    "        'rejected_input_ids': rejected['input_ids'],\n",
    "        'chosen_attention_mask': chosen['attention_mask'],\n",
    "        'rejected_attention_mask': rejected['attention_mask']}\n",
    "\n",
    "processed_dataset  = dataset.map(preprocess_function, batched=True)\n",
    "\n",
    "train_eval_dataset = processed_dataset.train_test_split(test_size=0.2)\n",
    "train_dataset = train_eval_dataset[\"train\"]\n",
    "eval_dataset = train_eval_dataset[\"test\"]\n",
    "\n",
    "# Experimenting with different hyperparameters\n",
    "hyperparams = [\n",
    "    {\"learning_rate\": 5e-5, \"batch_size\": 3, \"weight_decay\": 0.01},\n",
    "    {\"learning_rate\": 1e-4, \"batch_size\": 3, \"weight_decay\": 0.01},\n",
    "    {\"learning_rate\": 2e-5, \"batch_size\": 4, \"weight_decay\": 0.005}]\n",
    "\n",
    "best_model = None\n",
    "best_loss = float(\"inf\")\n",
    "\n",
    "results = []\n",
    "\n",
    "for params in hyperparams:\n",
    "    \n",
    "    run = wandb.init(\n",
    "        project=\"dpo-gpt2-tuning\",\n",
    "        config={\n",
    "            \"model\": \"gpt2\",\n",
    "            \"dataset\": \"Anthropic/hh-rlhf\",\n",
    "            \"learning_rate\": params[\"learning_rate\"],\n",
    "            \"batch_size\": params[\"batch_size\"],\n",
    "            \"weight_decay\": params[\"weight_decay\"],\n",
    "            \"warmup_ratio\": 0.1,\n",
    "            \"epochs\": 2},\n",
    "        name=f\"lr-{params['learning_rate']}_bs-{params['batch_size']}_ep-1\",\n",
    "        reinit=True)\n",
    "    \n",
    "    logging.info(f\"Training with {params}\")\n",
    "    training_args = DPOConfig(\n",
    "        output_dir=\"./results\",\n",
    "        do_eval=True,\n",
    "        eval_strategy=\"epoch\",  \n",
    "        warmup_ratio=0.1,\n",
    "        save_strategy=\"epoch\", \n",
    "        logging_strategy=\"epoch\",\n",
    "        logging_steps=1,\n",
    "        per_device_train_batch_size=params[\"batch_size\"],\n",
    "        per_device_eval_batch_size=params[\"batch_size\"],  \n",
    "        num_train_epochs=2,  \n",
    "        learning_rate=params[\"learning_rate\"],\n",
    "        weight_decay=params[\"weight_decay\"],\n",
    "        logging_dir=\"./logs\",\n",
    "        fp16=True,\n",
    "        report_to=\"wandb\")\n",
    "\n",
    "    # Define custom callback to log more metrics to W&B\n",
    "    class WandbCallback:\n",
    "        def on_log(self, args, state, control, logs=None, **kwargs):\n",
    "            if logs:\n",
    "                wandb.log(logs)\n",
    "                                \n",
    "    trainer = DPOTrainer(\n",
    "        model=model,\n",
    "        args=training_args,\n",
    "        train_dataset=train_dataset,\n",
    "        eval_dataset=eval_dataset, \n",
    "        processing_class=tokenizer,)\n",
    "    \n",
    "    trainer.train()\n",
    "    eval_results = trainer.evaluate()\n",
    "    eval_loss = trainer.evaluate()[\"eval_loss\"]\n",
    "    logging.info(f\"Eval Loss: {eval_loss}\")\n",
    "    \n",
    "    # Log evaluation results to wandb\n",
    "    wandb.log({\"final_eval_loss\": eval_loss})\n",
    "    \n",
    "    if eval_loss < best_loss:\n",
    "        best_loss = eval_loss\n",
    "        best_model = model\n",
    "        \n",
    "        # Save best model metadata\n",
    "        run.summary[\"best_model\"] = True\n",
    "        \n",
    "    # Store results for comparison\n",
    "    results.append({\n",
    "        \"learning_rate\": params[\"learning_rate\"],\n",
    "        \"batch_size\": params[\"batch_size\"],\n",
    "        \"epochs\": 2,\n",
    "        \"weight_decay\" : params[\"weight_decay\"],\n",
    "        \"eval_loss\": eval_loss,\n",
    "        \"run_id\": run.id\n",
    "    })\n",
    "    \n",
    "# Log a summary table of all runs\n",
    "summary_table = wandb.Table(\n",
    "    columns=[\"Run ID\", \"Learning Rate\", \"Batch Size\", \"Epochs\", \"Eval Loss\", \"Weight Decay\", \"Is Best\"])\n",
    "\n",
    "for result in results:\n",
    "    summary_table.add_data(\n",
    "        result[\"run_id\"],\n",
    "        result[\"learning_rate\"],\n",
    "        result[\"batch_size\"],\n",
    "        result[\"epochs\"],\n",
    "        result[\"eval_loss\"],\n",
    "        result[\"weight_decay\"],\n",
    "        result[\"eval_loss\"] == best_loss)\n",
    "    \n",
    "# Final wandb run to log the summary table\n",
    "final_run = wandb.init(project=\"dpo-gpt2-tuning\", name=\"hyperparameter-summary\")\n",
    "wandb.log({\"results_summary\": summary_table})\n",
    "\n",
    "# Save and push best model to Hugging Face Hub\n",
    "best_model_path = f\"./best_model/eval_loss-{best_loss}\"\n",
    "best_model.save_pretrained(best_model_path)\n",
    "tokenizer.save_pretrained(best_model_path)\n",
    "\n",
    "# Save and push best model to Hugging Face Hub\n",
    "best_model.push_to_hub(\"mirali111/dpo-gpt2-model\")\n",
    "tokenizer.push_to_hub(\"mirali111/dpo-gpt2-model\")\n",
    "\n",
    "# Now finish wandb\n",
    "wandb.finish()"
   ]
  },
  {
   "cell_type": "code",
   "execution_count": 8,
   "metadata": {},
   "outputs": [
    {
     "data": {
      "text/html": [
       "<div>\n",
       "<style scoped>\n",
       "    .dataframe tbody tr th:only-of-type {\n",
       "        vertical-align: middle;\n",
       "    }\n",
       "\n",
       "    .dataframe tbody tr th {\n",
       "        vertical-align: top;\n",
       "    }\n",
       "\n",
       "    .dataframe thead th {\n",
       "        text-align: right;\n",
       "    }\n",
       "</style>\n",
       "<table border=\"1\" class=\"dataframe\">\n",
       "  <thead>\n",
       "    <tr style=\"text-align: right;\">\n",
       "      <th></th>\n",
       "      <th>learning_rate</th>\n",
       "      <th>batch_size</th>\n",
       "      <th>epochs</th>\n",
       "      <th>weight_decay</th>\n",
       "      <th>eval_loss</th>\n",
       "      <th>run_id</th>\n",
       "    </tr>\n",
       "  </thead>\n",
       "  <tbody>\n",
       "    <tr>\n",
       "      <th>0</th>\n",
       "      <td>0.00005</td>\n",
       "      <td>3</td>\n",
       "      <td>2</td>\n",
       "      <td>0.010</td>\n",
       "      <td>1.058684</td>\n",
       "      <td>bg21g3i5</td>\n",
       "    </tr>\n",
       "    <tr>\n",
       "      <th>1</th>\n",
       "      <td>0.00010</td>\n",
       "      <td>3</td>\n",
       "      <td>2</td>\n",
       "      <td>0.010</td>\n",
       "      <td>2.168074</td>\n",
       "      <td>2cej41hw</td>\n",
       "    </tr>\n",
       "    <tr>\n",
       "      <th>2</th>\n",
       "      <td>0.00002</td>\n",
       "      <td>4</td>\n",
       "      <td>2</td>\n",
       "      <td>0.005</td>\n",
       "      <td>1.541081</td>\n",
       "      <td>40506liv</td>\n",
       "    </tr>\n",
       "  </tbody>\n",
       "</table>\n",
       "</div>"
      ],
      "text/plain": [
       "   learning_rate  batch_size  epochs  weight_decay  eval_loss    run_id\n",
       "0        0.00005           3       2         0.010   1.058684  bg21g3i5\n",
       "1        0.00010           3       2         0.010   2.168074  2cej41hw\n",
       "2        0.00002           4       2         0.005   1.541081  40506liv"
      ]
     },
     "execution_count": 8,
     "metadata": {},
     "output_type": "execute_result"
    }
   ],
   "source": [
    "# Convert results to a pandas DataFrame\n",
    "results_df = pd.DataFrame(results)\n",
    "\n",
    "# Print the results DataFrame\n",
    "results_df"
   ]
  },
  {
   "cell_type": "code",
   "execution_count": 9,
   "metadata": {},
   "outputs": [
    {
     "data": {
      "image/png": "[encoded data removed]",
      "text/plain": [
       "<Figure size 1000x600 with 1 Axes>"
      ]
     },
     "metadata": {},
     "output_type": "display_data"
    }
   ],
   "source": [
    "import matplotlib.pyplot as plt\n",
    "# Plotting the evaluation loss for different hyperparameters\n",
    "plt.figure(figsize=(10, 6))\n",
    "plt.plot(results_df.index, results_df['eval_loss'], marker='o', linestyle='-', color='b')\n",
    "plt.title('Evaluation Loss for Different Hyperparameters')\n",
    "plt.xlabel('Hyperparameter Set')\n",
    "plt.ylabel('Evaluation Loss')\n",
    "plt.xticks(results_df.index, [f\"Set {i+1}\" for i in results_df.index])\n",
    "plt.grid(True)\n",
    "plt.show()"
   ]
  },
  {
   "cell_type": "code",
   "execution_count": null,
   "metadata": {},
   "outputs": [],
   "source": []
  }
 ],
 "metadata": {
  "kernelspec": {
   "display_name": "Python 3",
   "language": "python",
   "name": "python3"
  },
  "language_info": {
   "codemirror_mode": {
    "name": "ipython",
    "version": 3
   },
   "file_extension": ".py",
   "mimetype": "text/x-python",
   "name": "python",
   "nbconvert_exporter": "python",
   "pygments_lexer": "ipython3",
   "version": "3.11.0"
  }
 },
 "nbformat": 4,
 "nbformat_minor": 2
}
